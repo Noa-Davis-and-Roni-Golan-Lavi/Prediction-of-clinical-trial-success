{
 "cells": [
  {
   "cell_type": "markdown",
   "id": "e0b24bd1-bef4-4759-8d97-39f3dc17cf82",
   "metadata": {},
   "source": [
    "## Import Libraries "
   ]
  },
  {
   "cell_type": "code",
   "execution_count": 109,
   "id": "8ddaca8f-54d9-4f20-82c0-ee24ef3ef63b",
   "metadata": {},
   "outputs": [],
   "source": [
    "import json\n",
    "import pandas as pd\n",
    "import seaborn as sns\n",
    "import matplotlib.pyplot as plt\n",
    "import unicodedata\n",
    "from datetime import datetime"
   ]
  },
  {
   "cell_type": "markdown",
   "id": "dfd604d0-4982-49e0-a564-621e7070e38f",
   "metadata": {},
   "source": [
    "## Reading FDA data records of approved drugs"
   ]
  },
  {
   "cell_type": "code",
   "execution_count": 110,
   "id": "ebcf5c4a-9b40-442f-bcc2-972609677f0b",
   "metadata": {},
   "outputs": [
    {
     "name": "stdout",
     "output_type": "stream",
     "text": [
      "Top-level type: <class 'dict'>\n",
      "Top-level keys: ['meta', 'results']\n",
      "First item in dict:\n",
      "{\n",
      "  \"disclaimer\": \"Do not rely on openFDA to make decisions regarding medical care. While we make every effort to ensure that data is accurate, you should assume all results are unvalidated. We may limit or otherwise restrict your access to the API in line with our Terms of Service.\",\n",
      "  \"terms\": \"https://open.fda.gov/terms/\",\n",
      "  \"license\": \"https://open.fda.gov/license/\",\n",
      "  \"last_updated\": \"2025-03-28\",\n",
      "  \"results\": {\n",
      "    \"skip\": 0,\n",
      "    \"limit\": 131124,\n",
      "    \"total\": 131124\n",
      "  }\n",
      "}\n"
     ]
    }
   ],
   "source": [
    "# Load the JSON file\n",
    "with open(\"drug-ndc-0001-of-0001.json\", \"r\") as f:\n",
    "    data = json.load(f)\n",
    "\n",
    "# Check the type of the top-level object\n",
    "print(\"Top-level type:\", type(data))\n",
    "\n",
    "# If it's a list, print the first item\n",
    "if isinstance(data, list):\n",
    "    print(\"First item in list:\")\n",
    "    print(json.dumps(data[0], indent=2))\n",
    "\n",
    "# If it's a dictionary, print the keys and first key-value pair\n",
    "elif isinstance(data, dict):\n",
    "    print(\"Top-level keys:\", list(data.keys())[:5])\n",
    "    first_key = next(iter(data))\n",
    "    print(\"First item in dict:\")\n",
    "    print(json.dumps(data[first_key], indent=2))"
   ]
  },
  {
   "cell_type": "code",
   "execution_count": 111,
   "id": "6e14d436-7753-4cb6-9768-1b6459d6ab4d",
   "metadata": {},
   "outputs": [
    {
     "name": "stdout",
     "output_type": "stream",
     "text": [
      "Number of drug entries: 131124\n",
      "{\n",
      "  \"product_ndc\": \"0555-9028\",\n",
      "  \"generic_name\": \"Norethindrone Acetate and Ethinyl Estradiol and Ferrous Fumarate\",\n",
      "  \"labeler_name\": \"Teva Pharmaceuticals USA, Inc.\",\n",
      "  \"brand_name\": \"Junel Fe 28 Day\",\n",
      "  \"brand_name_suffix\": \"Fe 28 Day\",\n",
      "  \"finished\": true,\n",
      "  \"packaging\": [\n",
      "    {\n",
      "      \"package_ndc\": \"0555-9028-58\",\n",
      "      \"description\": \"6 POUCH in 1 CARTON (0555-9028-58)  / 1 BLISTER PACK in 1 POUCH / 1 KIT in 1 BLISTER PACK\",\n",
      "      \"marketing_start_date\": \"20030918\",\n",
      "      \"sample\": false\n",
      "    }\n",
      "  ],\n",
      "  \"listing_expiration_date\": \"20251231\",\n",
      "  \"openfda\": {\n",
      "    \"manufacturer_name\": [\n",
      "      \"Teva Pharmaceuticals USA, Inc.\"\n",
      "    ],\n",
      "    \"rxcui\": [\n",
      "      \"259176\",\n",
      "      \"1358762\",\n",
      "      \"1358763\",\n",
      "      \"1358765\",\n",
      "      \"1358776\",\n",
      "      \"1358780\",\n",
      "      \"1359022\",\n",
      "      \"1359023\",\n",
      "      \"1359025\",\n",
      "      \"1359028\",\n",
      "      \"1359030\"\n",
      "    ],\n",
      "    \"spl_set_id\": [\n",
      "      \"8b82ad14-580c-4145-b825-dce849f95363\"\n",
      "    ],\n",
      "    \"is_original_packager\": [\n",
      "      true\n",
      "    ],\n",
      "    \"nui\": [\n",
      "      \"N0000175825\",\n",
      "      \"N0000000100\"\n",
      "    ],\n",
      "    \"pharm_class_epc\": [\n",
      "      \"Estrogen [EPC]\"\n",
      "    ],\n",
      "    \"pharm_class_moa\": [\n",
      "      \"Estrogen Receptor Agonists [MoA]\"\n",
      "    ],\n",
      "    \"unii\": [\n",
      "      \"423D2T571U\",\n",
      "      \"9S44LIC7OJ\"\n",
      "    ]\n",
      "  },\n",
      "  \"marketing_category\": \"ANDA\",\n",
      "  \"dosage_form\": \"KIT\",\n",
      "  \"spl_id\": \"d29dbb49-908f-451a-9379-21a96a1d7bb1\",\n",
      "  \"product_type\": \"HUMAN PRESCRIPTION DRUG\",\n",
      "  \"marketing_start_date\": \"20030918\",\n",
      "  \"product_id\": \"0555-9028_d29dbb49-908f-451a-9379-21a96a1d7bb1\",\n",
      "  \"application_number\": \"ANDA076064\",\n",
      "  \"brand_name_base\": \"Junel\"\n",
      "}\n"
     ]
    }
   ],
   "source": [
    "# creating a list of dictionaries\n",
    "drug_list = data['results'] \n",
    "\n",
    "# Print the number of entries and the first item\n",
    "print(f\"Number of drug entries: {len(drug_list)}\")\n",
    "print(json.dumps(drug_list[0], indent=2))\n"
   ]
  },
  {
   "cell_type": "code",
   "execution_count": 112,
   "id": "17306159-e55d-49e7-910a-ab8033984241",
   "metadata": {},
   "outputs": [
    {
     "data": {
      "text/html": [
       "<div>\n",
       "<style scoped>\n",
       "    .dataframe tbody tr th:only-of-type {\n",
       "        vertical-align: middle;\n",
       "    }\n",
       "\n",
       "    .dataframe tbody tr th {\n",
       "        vertical-align: top;\n",
       "    }\n",
       "\n",
       "    .dataframe thead th {\n",
       "        text-align: right;\n",
       "    }\n",
       "</style>\n",
       "<table border=\"1\" class=\"dataframe\">\n",
       "  <thead>\n",
       "    <tr style=\"text-align: right;\">\n",
       "      <th></th>\n",
       "      <th>generic_name</th>\n",
       "      <th>brand_name</th>\n",
       "      <th>marketing_start_date</th>\n",
       "      <th>pharm_class_epc</th>\n",
       "      <th>pharm_class_moa</th>\n",
       "      <th>manufacturer_name</th>\n",
       "    </tr>\n",
       "  </thead>\n",
       "  <tbody>\n",
       "    <tr>\n",
       "      <th>0</th>\n",
       "      <td>Norethindrone Acetate and Ethinyl Estradiol an...</td>\n",
       "      <td>Junel Fe 28 Day</td>\n",
       "      <td>20030918</td>\n",
       "      <td>Estrogen [EPC]</td>\n",
       "      <td>Estrogen Receptor Agonists [MoA]</td>\n",
       "      <td>Teva Pharmaceuticals USA, Inc.</td>\n",
       "    </tr>\n",
       "    <tr>\n",
       "      <th>1</th>\n",
       "      <td>SEVELAMER CARBONATE</td>\n",
       "      <td>Sevelamer carbonate</td>\n",
       "      <td>20171026</td>\n",
       "      <td></td>\n",
       "      <td></td>\n",
       "      <td>Exelan Pharmaceuticals Inc.</td>\n",
       "    </tr>\n",
       "    <tr>\n",
       "      <th>2</th>\n",
       "      <td>Levonorgestrel and Ethinyl Estradiol</td>\n",
       "      <td>Aviane</td>\n",
       "      <td>20010402</td>\n",
       "      <td></td>\n",
       "      <td></td>\n",
       "      <td>Teva Pharmaceuticals USA, Inc.</td>\n",
       "    </tr>\n",
       "    <tr>\n",
       "      <th>3</th>\n",
       "      <td>OSELTAMIVIR PHOSPHATE</td>\n",
       "      <td>OSELTAMIVIR PHOSPHATE</td>\n",
       "      <td>20231201</td>\n",
       "      <td></td>\n",
       "      <td></td>\n",
       "      <td>Exelan Pharmaceuticals, Inc.</td>\n",
       "    </tr>\n",
       "    <tr>\n",
       "      <th>4</th>\n",
       "      <td>Tamsulosin hydrochloride</td>\n",
       "      <td>Tamsulosin hydrochloride</td>\n",
       "      <td>20240301</td>\n",
       "      <td></td>\n",
       "      <td></td>\n",
       "      <td></td>\n",
       "    </tr>\n",
       "  </tbody>\n",
       "</table>\n",
       "</div>"
      ],
      "text/plain": [
       "                                        generic_name  \\\n",
       "0  Norethindrone Acetate and Ethinyl Estradiol an...   \n",
       "1                                SEVELAMER CARBONATE   \n",
       "2               Levonorgestrel and Ethinyl Estradiol   \n",
       "3                              OSELTAMIVIR PHOSPHATE   \n",
       "4                           Tamsulosin hydrochloride   \n",
       "\n",
       "                 brand_name marketing_start_date pharm_class_epc  \\\n",
       "0           Junel Fe 28 Day             20030918  Estrogen [EPC]   \n",
       "1       Sevelamer carbonate             20171026                   \n",
       "2                    Aviane             20010402                   \n",
       "3     OSELTAMIVIR PHOSPHATE             20231201                   \n",
       "4  Tamsulosin hydrochloride             20240301                   \n",
       "\n",
       "                    pharm_class_moa               manufacturer_name  \n",
       "0  Estrogen Receptor Agonists [MoA]  Teva Pharmaceuticals USA, Inc.  \n",
       "1                                       Exelan Pharmaceuticals Inc.  \n",
       "2                                    Teva Pharmaceuticals USA, Inc.  \n",
       "3                                      Exelan Pharmaceuticals, Inc.  \n",
       "4                                                                    "
      ]
     },
     "execution_count": 112,
     "metadata": {},
     "output_type": "execute_result"
    }
   ],
   "source": [
    "# Creating dataframe\n",
    "drug_entries = data[\"results\"]\n",
    "\n",
    "# Build a list of dictionaries for each entry with required fields\n",
    "records = []\n",
    "for entry in drug_entries:\n",
    "    record = {\n",
    "        \"generic_name\": entry.get(\"generic_name\"),\n",
    "        \"brand_name\": entry.get(\"brand_name\"),\n",
    "        \"marketing_start_date\": entry.get(\"marketing_start_date\")\n",
    "    }\n",
    "    \n",
    "    # Extract pharm_class_epc and pharm_class_moa from nested openfda\n",
    "    openfda = entry.get(\"openfda\", {})\n",
    "    record[\"pharm_class_epc\"] = \", \".join(openfda.get(\"pharm_class_epc\", []))\n",
    "    record[\"pharm_class_moa\"] = \", \".join(openfda.get(\"pharm_class_moa\", []))\n",
    "    record[\"manufacturer_name\"] = \", \".join(openfda.get(\"manufacturer_name\", []))\n",
    "    records.append(record)\n",
    "\n",
    "# Create DataFrame\n",
    "df = pd.DataFrame(records)\n",
    "\n",
    "# Preview the result\n",
    "df.head(5)\n"
   ]
  },
  {
   "cell_type": "code",
   "execution_count": 113,
   "id": "be0ae91f-118d-4533-a7fd-e902c576640f",
   "metadata": {},
   "outputs": [
    {
     "data": {
      "text/plain": [
       "(131124, 6)"
      ]
     },
     "execution_count": 113,
     "metadata": {},
     "output_type": "execute_result"
    }
   ],
   "source": [
    "df.shape"
   ]
  },
  {
   "cell_type": "markdown",
   "id": "89ddaf04-1ec1-418b-a69c-4ae9a90180fe",
   "metadata": {},
   "source": [
    "## Handling with missing values"
   ]
  },
  {
   "cell_type": "code",
   "execution_count": 114,
   "id": "b43727ad-ce4e-4449-9de0-7b248a47acc0",
   "metadata": {},
   "outputs": [
    {
     "data": {
      "text/plain": [
       "generic_name                3\n",
       "brand_name              20230\n",
       "marketing_start_date        0\n",
       "pharm_class_epc             0\n",
       "pharm_class_moa             0\n",
       "manufacturer_name           0\n",
       "dtype: int64"
      ]
     },
     "execution_count": 114,
     "metadata": {},
     "output_type": "execute_result"
    }
   ],
   "source": [
    "df.isnull().sum()"
   ]
  },
  {
   "cell_type": "code",
   "execution_count": 115,
   "id": "0bfb5a31-8260-47f4-aaba-e5c8eb70c124",
   "metadata": {},
   "outputs": [
    {
     "data": {
      "text/plain": [
       "(40281, 6)"
      ]
     },
     "execution_count": 115,
     "metadata": {},
     "output_type": "execute_result"
    }
   ],
   "source": [
    "df_dropped=df.drop_duplicates(subset = 'brand_name')\n",
    "df_dropped.shape"
   ]
  },
  {
   "cell_type": "code",
   "execution_count": 116,
   "id": "fb521c2a-b831-4db1-a6b5-9cb1b57d6d05",
   "metadata": {},
   "outputs": [
    {
     "data": {
      "text/html": [
       "<div>\n",
       "<style scoped>\n",
       "    .dataframe tbody tr th:only-of-type {\n",
       "        vertical-align: middle;\n",
       "    }\n",
       "\n",
       "    .dataframe tbody tr th {\n",
       "        vertical-align: top;\n",
       "    }\n",
       "\n",
       "    .dataframe thead th {\n",
       "        text-align: right;\n",
       "    }\n",
       "</style>\n",
       "<table border=\"1\" class=\"dataframe\">\n",
       "  <thead>\n",
       "    <tr style=\"text-align: right;\">\n",
       "      <th></th>\n",
       "      <th>generic_name</th>\n",
       "      <th>brand_name</th>\n",
       "      <th>marketing_start_date</th>\n",
       "      <th>pharm_class_epc</th>\n",
       "      <th>pharm_class_moa</th>\n",
       "      <th>manufacturer_name</th>\n",
       "    </tr>\n",
       "  </thead>\n",
       "  <tbody>\n",
       "    <tr>\n",
       "      <th>33325</th>\n",
       "      <td>(CHLOROPROCAINE HCI</td>\n",
       "      <td>(CHLOROPROCAINE HCI</td>\n",
       "      <td>20191013</td>\n",
       "      <td></td>\n",
       "      <td></td>\n",
       "      <td>HF Acquisition Co LLC, DBA HealthFirst</td>\n",
       "    </tr>\n",
       "    <tr>\n",
       "      <th>82181</th>\n",
       "      <td>(Ge-68) GERMANIUM CHLORIDE / (Ga-68) GALLIUM C...</td>\n",
       "      <td>None</td>\n",
       "      <td>20141106</td>\n",
       "      <td></td>\n",
       "      <td></td>\n",
       "      <td></td>\n",
       "    </tr>\n",
       "    <tr>\n",
       "      <th>82182</th>\n",
       "      <td>(Ge-68) GERMANIUM CHLORIDE/(Ga-68) GALLIUM CHL...</td>\n",
       "      <td>None</td>\n",
       "      <td>20141106</td>\n",
       "      <td></td>\n",
       "      <td></td>\n",
       "      <td></td>\n",
       "    </tr>\n",
       "    <tr>\n",
       "      <th>16239</th>\n",
       "      <td>(Ge-68) GERMANIUM CHLORIDE/(Ga-68) GALLIUM CHL...</td>\n",
       "      <td>None</td>\n",
       "      <td>20210901</td>\n",
       "      <td></td>\n",
       "      <td></td>\n",
       "      <td></td>\n",
       "    </tr>\n",
       "    <tr>\n",
       "      <th>55790</th>\n",
       "      <td>(Ge-68) GERMANIUM CHLORIDE/(Ga-68) GALLIUM CHL...</td>\n",
       "      <td>None</td>\n",
       "      <td>20141106</td>\n",
       "      <td></td>\n",
       "      <td></td>\n",
       "      <td></td>\n",
       "    </tr>\n",
       "  </tbody>\n",
       "</table>\n",
       "</div>"
      ],
      "text/plain": [
       "                                            generic_name           brand_name  \\\n",
       "33325                                (CHLOROPROCAINE HCI  (CHLOROPROCAINE HCI   \n",
       "82181  (Ge-68) GERMANIUM CHLORIDE / (Ga-68) GALLIUM C...                 None   \n",
       "82182  (Ge-68) GERMANIUM CHLORIDE/(Ga-68) GALLIUM CHL...                 None   \n",
       "16239  (Ge-68) GERMANIUM CHLORIDE/(Ga-68) GALLIUM CHL...                 None   \n",
       "55790  (Ge-68) GERMANIUM CHLORIDE/(Ga-68) GALLIUM CHL...                 None   \n",
       "\n",
       "      marketing_start_date pharm_class_epc pharm_class_moa  \\\n",
       "33325             20191013                                   \n",
       "82181             20141106                                   \n",
       "82182             20141106                                   \n",
       "16239             20210901                                   \n",
       "55790             20141106                                   \n",
       "\n",
       "                            manufacturer_name  \n",
       "33325  HF Acquisition Co LLC, DBA HealthFirst  \n",
       "82181                                          \n",
       "82182                                          \n",
       "16239                                          \n",
       "55790                                          "
      ]
     },
     "execution_count": 116,
     "metadata": {},
     "output_type": "execute_result"
    }
   ],
   "source": [
    "df.sort_values(by=[\"generic_name\"], inplace=True)\n",
    "df.head()"
   ]
  },
  {
   "cell_type": "code",
   "execution_count": 117,
   "id": "eba5a719-8615-4cdb-8306-d9d86d37e3c5",
   "metadata": {},
   "outputs": [
    {
     "data": {
      "text/plain": [
       "(72677, 6)"
      ]
     },
     "execution_count": 117,
     "metadata": {},
     "output_type": "execute_result"
    }
   ],
   "source": [
    "df = df.drop_duplicates(subset=[\"brand_name\", \"marketing_start_date\"])\n",
    "df.shape"
   ]
  },
  {
   "cell_type": "code",
   "execution_count": 118,
   "id": "a5cf34db-661d-4c48-829a-776ced30c57f",
   "metadata": {},
   "outputs": [],
   "source": [
    "df = df[~(df['brand_name'].isna())]"
   ]
  },
  {
   "cell_type": "code",
   "execution_count": 119,
   "id": "378ea8bb-ac96-48dc-ad2a-dc5290e9e9bd",
   "metadata": {},
   "outputs": [],
   "source": [
    "import warnings\n",
    "warnings.filterwarnings('ignore')\n",
    "\n",
    "df['generic_name'].fillna('Unknown', inplace=True)"
   ]
  },
  {
   "cell_type": "code",
   "execution_count": 120,
   "id": "c60c6b3a-a836-4b74-9f6f-de36f9a8be31",
   "metadata": {},
   "outputs": [
    {
     "data": {
      "text/plain": [
       "generic_name            0\n",
       "brand_name              0\n",
       "marketing_start_date    0\n",
       "pharm_class_epc         0\n",
       "pharm_class_moa         0\n",
       "manufacturer_name       0\n",
       "dtype: int64"
      ]
     },
     "execution_count": 120,
     "metadata": {},
     "output_type": "execute_result"
    }
   ],
   "source": [
    "df.isnull().sum()"
   ]
  },
  {
   "cell_type": "markdown",
   "id": "63c3c68e-735c-4f05-af30-c88806fb2d9b",
   "metadata": {},
   "source": [
    "## Convert the column to datetime format"
   ]
  },
  {
   "cell_type": "code",
   "execution_count": 121,
   "id": "4de9a0a5-926d-4c91-b847-4ab78f91922d",
   "metadata": {},
   "outputs": [],
   "source": [
    "df['marketing_start_date'] = pd.to_datetime(df['marketing_start_date'], format=\"%Y%m%d\", errors='coerce')\n",
    "\n",
    "# Format the date as YYYY-MM\n",
    "df['marketing_start_date'] = df['marketing_start_date'].dt.strftime('%Y-%m')\n"
   ]
  },
  {
   "cell_type": "code",
   "execution_count": 122,
   "id": "47760281-957e-4460-ad0e-6eaa275e7bce",
   "metadata": {},
   "outputs": [
    {
     "data": {
      "text/html": [
       "<div>\n",
       "<style scoped>\n",
       "    .dataframe tbody tr th:only-of-type {\n",
       "        vertical-align: middle;\n",
       "    }\n",
       "\n",
       "    .dataframe tbody tr th {\n",
       "        vertical-align: top;\n",
       "    }\n",
       "\n",
       "    .dataframe thead th {\n",
       "        text-align: right;\n",
       "    }\n",
       "</style>\n",
       "<table border=\"1\" class=\"dataframe\">\n",
       "  <thead>\n",
       "    <tr style=\"text-align: right;\">\n",
       "      <th></th>\n",
       "      <th>generic_name</th>\n",
       "      <th>brand_name</th>\n",
       "      <th>marketing_start_date</th>\n",
       "      <th>pharm_class_epc</th>\n",
       "      <th>pharm_class_moa</th>\n",
       "      <th>manufacturer_name</th>\n",
       "    </tr>\n",
       "  </thead>\n",
       "  <tbody>\n",
       "    <tr>\n",
       "      <th>33325</th>\n",
       "      <td>(CHLOROPROCAINE HCI</td>\n",
       "      <td>(CHLOROPROCAINE HCI</td>\n",
       "      <td>2019-10</td>\n",
       "      <td></td>\n",
       "      <td></td>\n",
       "      <td>HF Acquisition Co LLC, DBA HealthFirst</td>\n",
       "    </tr>\n",
       "    <tr>\n",
       "      <th>85853</th>\n",
       "      <td>(SOTRADECOL) SODIUM TETRADECYL SULFATE</td>\n",
       "      <td>(SOTRADECOL) SODIUM TETRADECYL SULFATE</td>\n",
       "      <td>2021-06</td>\n",
       "      <td></td>\n",
       "      <td></td>\n",
       "      <td>HF Acquisition Co LLC, DBA HealthFirst</td>\n",
       "    </tr>\n",
       "    <tr>\n",
       "      <th>101761</th>\n",
       "      <td>(To Deliver) Avobenzone 2%, Homosalate 8%, Oct...</td>\n",
       "      <td>Coppertone Sport Sunscreen SPF 30</td>\n",
       "      <td>2023-11</td>\n",
       "      <td></td>\n",
       "      <td></td>\n",
       "      <td>Beiersdorf Inc</td>\n",
       "    </tr>\n",
       "    <tr>\n",
       "      <th>101765</th>\n",
       "      <td>(To Deliver) Avobenzone 2%, Octisalate 4.5%, O...</td>\n",
       "      <td>Coppertone Tanning Sunscreen SPF 15</td>\n",
       "      <td>2023-12</td>\n",
       "      <td></td>\n",
       "      <td></td>\n",
       "      <td>Beiersdorf Inc</td>\n",
       "    </tr>\n",
       "    <tr>\n",
       "      <th>49261</th>\n",
       "      <td>(To Deliver) Avobenzone 3%, Homosalate 10%, Oc...</td>\n",
       "      <td>Coppertone Kids Sunscreen SPF 50</td>\n",
       "      <td>2024-01</td>\n",
       "      <td></td>\n",
       "      <td></td>\n",
       "      <td>Beiersdorf Inc</td>\n",
       "    </tr>\n",
       "  </tbody>\n",
       "</table>\n",
       "</div>"
      ],
      "text/plain": [
       "                                             generic_name  \\\n",
       "33325                                 (CHLOROPROCAINE HCI   \n",
       "85853              (SOTRADECOL) SODIUM TETRADECYL SULFATE   \n",
       "101761  (To Deliver) Avobenzone 2%, Homosalate 8%, Oct...   \n",
       "101765  (To Deliver) Avobenzone 2%, Octisalate 4.5%, O...   \n",
       "49261   (To Deliver) Avobenzone 3%, Homosalate 10%, Oc...   \n",
       "\n",
       "                                    brand_name marketing_start_date  \\\n",
       "33325                      (CHLOROPROCAINE HCI              2019-10   \n",
       "85853   (SOTRADECOL) SODIUM TETRADECYL SULFATE              2021-06   \n",
       "101761       Coppertone Sport Sunscreen SPF 30              2023-11   \n",
       "101765     Coppertone Tanning Sunscreen SPF 15              2023-12   \n",
       "49261         Coppertone Kids Sunscreen SPF 50              2024-01   \n",
       "\n",
       "       pharm_class_epc pharm_class_moa                       manufacturer_name  \n",
       "33325                                   HF Acquisition Co LLC, DBA HealthFirst  \n",
       "85853                                   HF Acquisition Co LLC, DBA HealthFirst  \n",
       "101761                                                          Beiersdorf Inc  \n",
       "101765                                                          Beiersdorf Inc  \n",
       "49261                                                           Beiersdorf Inc  "
      ]
     },
     "execution_count": 122,
     "metadata": {},
     "output_type": "execute_result"
    }
   ],
   "source": [
    "df.head()"
   ]
  },
  {
   "cell_type": "markdown",
   "id": "64c243af-3f8e-486f-bccc-ef73a1012693",
   "metadata": {},
   "source": [
    "## Remove duplication"
   ]
  },
  {
   "cell_type": "code",
   "execution_count": 123,
   "id": "068fdf1b-254e-4a45-98a6-355b0bde57cb",
   "metadata": {},
   "outputs": [
    {
     "data": {
      "text/plain": [
       "16400"
      ]
     },
     "execution_count": 123,
     "metadata": {},
     "output_type": "execute_result"
    }
   ],
   "source": [
    "df.duplicated(subset=['generic_name', 'marketing_start_date']).sum()"
   ]
  },
  {
   "cell_type": "code",
   "execution_count": 124,
   "id": "c34959d2-0663-442b-b9ee-5291e98b1848",
   "metadata": {},
   "outputs": [],
   "source": [
    "df = df.drop_duplicates(subset=['generic_name', 'marketing_start_date'])"
   ]
  },
  {
   "cell_type": "code",
   "execution_count": 125,
   "id": "0fa8be1c-3595-4fd6-97c2-27b6b3278524",
   "metadata": {},
   "outputs": [
    {
     "data": {
      "text/plain": [
       "(50788, 6)"
      ]
     },
     "execution_count": 125,
     "metadata": {},
     "output_type": "execute_result"
    }
   ],
   "source": [
    "df.shape"
   ]
  },
  {
   "cell_type": "code",
   "execution_count": 126,
   "id": "51de5a55-27ca-4314-86cc-9e96da750de7",
   "metadata": {},
   "outputs": [],
   "source": [
    "df = df.drop_duplicates(subset=['brand_name', 'marketing_start_date'])"
   ]
  },
  {
   "cell_type": "code",
   "execution_count": 127,
   "id": "29122e41-86bf-485a-94e2-d7b7d1a229d5",
   "metadata": {},
   "outputs": [
    {
     "data": {
      "text/plain": [
       "(50201, 6)"
      ]
     },
     "execution_count": 127,
     "metadata": {},
     "output_type": "execute_result"
    }
   ],
   "source": [
    "df.shape"
   ]
  },
  {
   "cell_type": "markdown",
   "id": "0a13b93e-7cc2-4cdc-9674-d1495955823c",
   "metadata": {},
   "source": [
    "## Loading clinical trials data\n",
    "1. df_intervention is based on AACT table that provides information on whether the drug is experimental or placebo (\"group_type\")\n",
    "2. Main_df is the ClinicalTrials.gov dataset that is used here to provide information regarding study status, phase and completion year"
   ]
  },
  {
   "cell_type": "code",
   "execution_count": 128,
   "id": "c0729b21-bb96-45ea-a1dc-dcc89be58936",
   "metadata": {},
   "outputs": [],
   "source": [
    "df_interventions=pd.read_csv('AACT_with_int_groups_2205_1.csv', usecols=['nct_id',\n",
    "       'name', 'group_type'])"
   ]
  },
  {
   "cell_type": "code",
   "execution_count": 129,
   "id": "f1ee29fc-8e46-45e9-b17b-9984f00da042",
   "metadata": {},
   "outputs": [
    {
     "data": {
      "text/plain": [
       "Index(['nct_id', 'name', 'group_type'], dtype='object')"
      ]
     },
     "execution_count": 129,
     "metadata": {},
     "output_type": "execute_result"
    }
   ],
   "source": [
    "df_interventions.columns"
   ]
  },
  {
   "cell_type": "code",
   "execution_count": 130,
   "id": "c675f986-3902-40c7-9fcf-e5df836cbf53",
   "metadata": {},
   "outputs": [
    {
     "data": {
      "text/plain": [
       "(358285, 3)"
      ]
     },
     "execution_count": 130,
     "metadata": {},
     "output_type": "execute_result"
    }
   ],
   "source": [
    "df_interventions = df_interventions[(df_interventions['group_type'] == 'EXPERIMENTAL')]\n",
    "df_interventions.shape"
   ]
  },
  {
   "cell_type": "code",
   "execution_count": 131,
   "id": "19b1e59a-a6d6-42f2-8544-263a13e55c3a",
   "metadata": {},
   "outputs": [
    {
     "data": {
      "text/plain": [
       "(223546, 4)"
      ]
     },
     "execution_count": 131,
     "metadata": {},
     "output_type": "execute_result"
    }
   ],
   "source": [
    "main_df=pd.read_csv('ctgAll_EDA1205_atcc.csv', usecols=['NCT_Number','Completion_Year','Phases_Simplified', 'Study_Status'])\n",
    "main_df.shape"
   ]
  },
  {
   "cell_type": "code",
   "execution_count": 132,
   "id": "cb58578a-aa60-45ca-ba17-90d43a22b9cd",
   "metadata": {},
   "outputs": [
    {
     "data": {
      "text/plain": [
       "Study_Status\n",
       "COMPLETED                  144118\n",
       "UNKNOWN                     37553\n",
       "RECRUITING                  14793\n",
       "TERMINATED                  14046\n",
       "ACTIVE_NOT_RECRUITING        6459\n",
       "NOT_YET_RECRUITING           4751\n",
       "ENROLLING_BY_INVITATION      1233\n",
       "SUSPENDED                     528\n",
       "WITHDRAWN                      65\n",
       "Name: count, dtype: int64"
      ]
     },
     "execution_count": 132,
     "metadata": {},
     "output_type": "execute_result"
    }
   ],
   "source": [
    "main_df.Study_Status.value_counts()"
   ]
  },
  {
   "cell_type": "code",
   "execution_count": 133,
   "id": "954e4a98-6822-4442-958b-25e071f6e41b",
   "metadata": {},
   "outputs": [
    {
     "data": {
      "text/plain": [
       "(144118, 4)"
      ]
     },
     "execution_count": 133,
     "metadata": {},
     "output_type": "execute_result"
    }
   ],
   "source": [
    "main_df=main_df[\n",
    "    (main_df.Study_Status == 'COMPLETED')]\n",
    "main_df.shape\n"
   ]
  },
  {
   "cell_type": "code",
   "execution_count": 134,
   "id": "b881ff50-ff70-43b0-943b-66737563b09e",
   "metadata": {},
   "outputs": [],
   "source": [
    "main_df.rename(columns={\n",
    "    'NCT_Number':'nct_id'\n",
    "    }, inplace=True)\n"
   ]
  },
  {
   "cell_type": "code",
   "execution_count": 135,
   "id": "35e271aa-264b-4173-88de-e3bfb89c5591",
   "metadata": {},
   "outputs": [
    {
     "data": {
      "text/plain": [
       "(13719, 4)"
      ]
     },
     "execution_count": 135,
     "metadata": {},
     "output_type": "execute_result"
    }
   ],
   "source": [
    "main_df = main_df[\n",
    "    (main_df['Phases_Simplified'] == 'PHASE3')]\n",
    "main_df.shape\n"
   ]
  },
  {
   "cell_type": "code",
   "execution_count": 136,
   "id": "8170e8bb-8969-4da8-9230-7d2b9645a2ae",
   "metadata": {},
   "outputs": [
    {
     "name": "stdout",
     "output_type": "stream",
     "text": [
      "(21797, 6)\n",
      "Index(['nct_id', 'Study_Status', 'Completion_Year', 'Phases_Simplified',\n",
      "       'name', 'group_type'],\n",
      "      dtype='object')\n",
      "13719\n"
     ]
    }
   ],
   "source": [
    "df_int= main_df.merge(\n",
    "    df_interventions,\n",
    "    on='nct_id',\n",
    "    how='left',\n",
    "    validate='one_to_many'  \n",
    ")\n",
    "\n",
    "print(df_int.shape)\n",
    "print(df_int.columns)\n",
    "print(df_int.nct_id.nunique())\n"
   ]
  },
  {
   "cell_type": "code",
   "execution_count": 137,
   "id": "3ff75afd-72c0-4bb9-bd44-2de66985c05d",
   "metadata": {},
   "outputs": [],
   "source": [
    "import unicodedata\n",
    "import pandas as pd\n",
    "\n",
    "# Helper to clean strings\n",
    "def clean_text(s):\n",
    "    if pd.isna(s):\n",
    "        return ''\n",
    "    return unicodedata.normalize('NFKD', str(s)).encode('ascii', 'ignore').decode('utf-8').strip().lower()\n",
    "\n",
    "# Clean relevant columns\n",
    "df['clean_generic'] = df['generic_name'].apply(clean_text)\n",
    "df['clean_brand'] = df['brand_name'].apply(clean_text)\n",
    "df_int['clean_name'] = df_int['name'].apply(clean_text)\n",
    "\n",
    "# Match on clean_generic\n",
    "matched_generic = df_int.merge(df, left_on='clean_name', right_on='clean_generic', how='inner')\n",
    "# Match on clean_brand\n",
    "matched_brand = df_int.merge(df, left_on='clean_name', right_on='clean_brand', how='inner')\n",
    "# Combine matched results\n",
    "matched = pd.concat([matched_generic, matched_brand], ignore_index=True)\n",
    "\n",
    "# Build matched_df\n",
    "matched_df = matched[['nct_id', 'name', 'marketing_start_date', 'manufacturer_name']].drop_duplicates()\n",
    "matched_df['Is_FDA_approved'] = True\n",
    "\n",
    "# Identify unmatched (by nct_id + name combo)\n",
    "all_ncts = df_int[['nct_id', 'name']].drop_duplicates()\n",
    "matched_keys = matched_df[['nct_id', 'name']]\n",
    "unmatched_df = pd.merge(all_ncts, matched_keys, on=['nct_id', 'name'], how='outer', indicator=True)\n",
    "unmatched_df = unmatched_df[unmatched_df['_merge'] == 'left_only'].drop(columns=['_merge'])\n",
    "\n",
    "# Add missing info to unmatched\n",
    "unmatched_df['marketing_start_date'] = None\n",
    "unmatched_df['manufacturer_name'] = None\n",
    "unmatched_df['Is_FDA_approved'] = False\n",
    "\n",
    "# Combine both\n",
    "final_df = pd.concat([matched_df, unmatched_df], ignore_index=True)\n"
   ]
  },
  {
   "cell_type": "code",
   "execution_count": 138,
   "id": "aa2c38e7-9e98-47c9-aeb6-ca46144f0bf2",
   "metadata": {},
   "outputs": [
    {
     "data": {
      "text/plain": [
       "Is_FDA_approved\n",
       "True     65103\n",
       "False    14012\n",
       "Name: count, dtype: int64"
      ]
     },
     "execution_count": 138,
     "metadata": {},
     "output_type": "execute_result"
    }
   ],
   "source": [
    "final_df.Is_FDA_approved.value_counts()"
   ]
  },
  {
   "cell_type": "code",
   "execution_count": 139,
   "id": "a25b81e2-0238-4d4d-8e9a-41435f6150da",
   "metadata": {},
   "outputs": [
    {
     "data": {
      "text/plain": [
       "8017"
      ]
     },
     "execution_count": 139,
     "metadata": {},
     "output_type": "execute_result"
    }
   ],
   "source": [
    "final_df.name.nunique()"
   ]
  },
  {
   "cell_type": "code",
   "execution_count": 140,
   "id": "257a25a3-c6be-4ca7-8329-1482ba500380",
   "metadata": {},
   "outputs": [],
   "source": [
    "final_df.rename(columns={\n",
    "                     'name':'clean_name'},\n",
    "inplace=True)\n",
    "\n"
   ]
  },
  {
   "cell_type": "code",
   "execution_count": 141,
   "id": "7382de8a-a030-492b-b520-9104d8956c08",
   "metadata": {},
   "outputs": [
    {
     "data": {
      "text/plain": [
       "Index(['nct_id', 'Study_Status', 'Completion_Year', 'Phases_Simplified',\n",
       "       'name', 'group_type', 'clean_name'],\n",
       "      dtype='object')"
      ]
     },
     "execution_count": 141,
     "metadata": {},
     "output_type": "execute_result"
    }
   ],
   "source": [
    "df_int.columns"
   ]
  },
  {
   "cell_type": "code",
   "execution_count": 142,
   "id": "6a4fab73-7c74-4878-b470-8fccc22509e9",
   "metadata": {},
   "outputs": [
    {
     "ename": "KeyError",
     "evalue": "'start_marketing_year'",
     "output_type": "error",
     "traceback": [
      "\u001b[1;31m---------------------------------------------------------------------------\u001b[0m",
      "\u001b[1;31mKeyError\u001b[0m                                  Traceback (most recent call last)",
      "File \u001b[1;32m~\\anaconda3\\Lib\\site-packages\\pandas\\core\\indexes\\base.py:3805\u001b[0m, in \u001b[0;36mIndex.get_loc\u001b[1;34m(self, key)\u001b[0m\n\u001b[0;32m   3804\u001b[0m \u001b[38;5;28;01mtry\u001b[39;00m:\n\u001b[1;32m-> 3805\u001b[0m     \u001b[38;5;28;01mreturn\u001b[39;00m \u001b[38;5;28mself\u001b[39m\u001b[38;5;241m.\u001b[39m_engine\u001b[38;5;241m.\u001b[39mget_loc(casted_key)\n\u001b[0;32m   3806\u001b[0m \u001b[38;5;28;01mexcept\u001b[39;00m \u001b[38;5;167;01mKeyError\u001b[39;00m \u001b[38;5;28;01mas\u001b[39;00m err:\n",
      "File \u001b[1;32mindex.pyx:167\u001b[0m, in \u001b[0;36mpandas._libs.index.IndexEngine.get_loc\u001b[1;34m()\u001b[0m\n",
      "File \u001b[1;32mindex.pyx:196\u001b[0m, in \u001b[0;36mpandas._libs.index.IndexEngine.get_loc\u001b[1;34m()\u001b[0m\n",
      "File \u001b[1;32mpandas\\\\_libs\\\\hashtable_class_helper.pxi:7081\u001b[0m, in \u001b[0;36mpandas._libs.hashtable.PyObjectHashTable.get_item\u001b[1;34m()\u001b[0m\n",
      "File \u001b[1;32mpandas\\\\_libs\\\\hashtable_class_helper.pxi:7089\u001b[0m, in \u001b[0;36mpandas._libs.hashtable.PyObjectHashTable.get_item\u001b[1;34m()\u001b[0m\n",
      "\u001b[1;31mKeyError\u001b[0m: 'start_marketing_year'",
      "\nThe above exception was the direct cause of the following exception:\n",
      "\u001b[1;31mKeyError\u001b[0m                                  Traceback (most recent call last)",
      "Cell \u001b[1;32mIn[142], line 11\u001b[0m\n\u001b[0;32m      2\u001b[0m merged \u001b[38;5;241m=\u001b[39m df_int\u001b[38;5;241m.\u001b[39mmerge(\n\u001b[0;32m      3\u001b[0m     final_df,\n\u001b[0;32m      4\u001b[0m     on\u001b[38;5;241m=\u001b[39m[\u001b[38;5;124m'\u001b[39m\u001b[38;5;124mnct_id\u001b[39m\u001b[38;5;124m'\u001b[39m, \u001b[38;5;124m'\u001b[39m\u001b[38;5;124mclean_name\u001b[39m\u001b[38;5;124m'\u001b[39m],\n\u001b[0;32m      5\u001b[0m     how\u001b[38;5;241m=\u001b[39m\u001b[38;5;124m'\u001b[39m\u001b[38;5;124mleft\u001b[39m\u001b[38;5;124m'\u001b[39m,\n\u001b[0;32m      6\u001b[0m     suffixes\u001b[38;5;241m=\u001b[39m(\u001b[38;5;124m'\u001b[39m\u001b[38;5;124m_trial\u001b[39m\u001b[38;5;124m'\u001b[39m, \u001b[38;5;124m'\u001b[39m\u001b[38;5;124m_approval\u001b[39m\u001b[38;5;124m'\u001b[39m)\n\u001b[0;32m      7\u001b[0m )\n\u001b[0;32m      9\u001b[0m \u001b[38;5;66;03m# Extend approval window to 5 years\u001b[39;00m\n\u001b[0;32m     10\u001b[0m merged[\u001b[38;5;124m'\u001b[39m\u001b[38;5;124mreached_fda_milestone\u001b[39m\u001b[38;5;124m'\u001b[39m] \u001b[38;5;241m=\u001b[39m (\n\u001b[1;32m---> 11\u001b[0m     merged[\u001b[38;5;124m'\u001b[39m\u001b[38;5;124mstart_marketing_year\u001b[39m\u001b[38;5;124m'\u001b[39m]\u001b[38;5;241m.\u001b[39mnotnull() \u001b[38;5;241m&\u001b[39m\n\u001b[0;32m     12\u001b[0m     (merged[\u001b[38;5;124m'\u001b[39m\u001b[38;5;124mstart_marketing_year\u001b[39m\u001b[38;5;124m'\u001b[39m] \u001b[38;5;241m-\u001b[39m merged[\u001b[38;5;124m'\u001b[39m\u001b[38;5;124mCompletion_Year\u001b[39m\u001b[38;5;124m'\u001b[39m] \u001b[38;5;241m<\u001b[39m\u001b[38;5;241m=\u001b[39m \u001b[38;5;241m2\u001b[39m) \u001b[38;5;241m&\u001b[39m\n\u001b[0;32m     13\u001b[0m     (merged[\u001b[38;5;124m'\u001b[39m\u001b[38;5;124mstart_marketing_year\u001b[39m\u001b[38;5;124m'\u001b[39m] \u001b[38;5;241m-\u001b[39m merged[\u001b[38;5;124m'\u001b[39m\u001b[38;5;124mCompletion_Year\u001b[39m\u001b[38;5;124m'\u001b[39m] \u001b[38;5;241m>\u001b[39m\u001b[38;5;241m=\u001b[39m \u001b[38;5;241m0\u001b[39m)\n\u001b[0;32m     14\u001b[0m )\n\u001b[0;32m     15\u001b[0m \u001b[38;5;66;03m# Safely select columns for final output\u001b[39;00m\n\u001b[0;32m     16\u001b[0m cols_to_include \u001b[38;5;241m=\u001b[39m [\u001b[38;5;124m'\u001b[39m\u001b[38;5;124mnct_id\u001b[39m\u001b[38;5;124m'\u001b[39m, \u001b[38;5;124m'\u001b[39m\u001b[38;5;124mCompletion_Year\u001b[39m\u001b[38;5;124m'\u001b[39m, \u001b[38;5;124m'\u001b[39m\u001b[38;5;124mSponsor\u001b[39m\u001b[38;5;124m'\u001b[39m, \u001b[38;5;124m'\u001b[39m\u001b[38;5;124mclean_name\u001b[39m\u001b[38;5;124m'\u001b[39m, \n\u001b[0;32m     17\u001b[0m                    \u001b[38;5;124m'\u001b[39m\u001b[38;5;124mmarketing_start_date\u001b[39m\u001b[38;5;124m'\u001b[39m, \u001b[38;5;124m'\u001b[39m\u001b[38;5;124mmanufacturer_name\u001b[39m\u001b[38;5;124m'\u001b[39m, \n\u001b[0;32m     18\u001b[0m                    \u001b[38;5;124m'\u001b[39m\u001b[38;5;124mstart_marketing_year\u001b[39m\u001b[38;5;124m'\u001b[39m, \u001b[38;5;124m'\u001b[39m\u001b[38;5;124mreached_fda_milestone\u001b[39m\u001b[38;5;124m'\u001b[39m]\n",
      "File \u001b[1;32m~\\anaconda3\\Lib\\site-packages\\pandas\\core\\frame.py:4102\u001b[0m, in \u001b[0;36mDataFrame.__getitem__\u001b[1;34m(self, key)\u001b[0m\n\u001b[0;32m   4100\u001b[0m \u001b[38;5;28;01mif\u001b[39;00m \u001b[38;5;28mself\u001b[39m\u001b[38;5;241m.\u001b[39mcolumns\u001b[38;5;241m.\u001b[39mnlevels \u001b[38;5;241m>\u001b[39m \u001b[38;5;241m1\u001b[39m:\n\u001b[0;32m   4101\u001b[0m     \u001b[38;5;28;01mreturn\u001b[39;00m \u001b[38;5;28mself\u001b[39m\u001b[38;5;241m.\u001b[39m_getitem_multilevel(key)\n\u001b[1;32m-> 4102\u001b[0m indexer \u001b[38;5;241m=\u001b[39m \u001b[38;5;28mself\u001b[39m\u001b[38;5;241m.\u001b[39mcolumns\u001b[38;5;241m.\u001b[39mget_loc(key)\n\u001b[0;32m   4103\u001b[0m \u001b[38;5;28;01mif\u001b[39;00m is_integer(indexer):\n\u001b[0;32m   4104\u001b[0m     indexer \u001b[38;5;241m=\u001b[39m [indexer]\n",
      "File \u001b[1;32m~\\anaconda3\\Lib\\site-packages\\pandas\\core\\indexes\\base.py:3812\u001b[0m, in \u001b[0;36mIndex.get_loc\u001b[1;34m(self, key)\u001b[0m\n\u001b[0;32m   3807\u001b[0m     \u001b[38;5;28;01mif\u001b[39;00m \u001b[38;5;28misinstance\u001b[39m(casted_key, \u001b[38;5;28mslice\u001b[39m) \u001b[38;5;129;01mor\u001b[39;00m (\n\u001b[0;32m   3808\u001b[0m         \u001b[38;5;28misinstance\u001b[39m(casted_key, abc\u001b[38;5;241m.\u001b[39mIterable)\n\u001b[0;32m   3809\u001b[0m         \u001b[38;5;129;01mand\u001b[39;00m \u001b[38;5;28many\u001b[39m(\u001b[38;5;28misinstance\u001b[39m(x, \u001b[38;5;28mslice\u001b[39m) \u001b[38;5;28;01mfor\u001b[39;00m x \u001b[38;5;129;01min\u001b[39;00m casted_key)\n\u001b[0;32m   3810\u001b[0m     ):\n\u001b[0;32m   3811\u001b[0m         \u001b[38;5;28;01mraise\u001b[39;00m InvalidIndexError(key)\n\u001b[1;32m-> 3812\u001b[0m     \u001b[38;5;28;01mraise\u001b[39;00m \u001b[38;5;167;01mKeyError\u001b[39;00m(key) \u001b[38;5;28;01mfrom\u001b[39;00m \u001b[38;5;21;01merr\u001b[39;00m\n\u001b[0;32m   3813\u001b[0m \u001b[38;5;28;01mexcept\u001b[39;00m \u001b[38;5;167;01mTypeError\u001b[39;00m:\n\u001b[0;32m   3814\u001b[0m     \u001b[38;5;66;03m# If we have a listlike key, _check_indexing_error will raise\u001b[39;00m\n\u001b[0;32m   3815\u001b[0m     \u001b[38;5;66;03m#  InvalidIndexError. Otherwise we fall through and re-raise\u001b[39;00m\n\u001b[0;32m   3816\u001b[0m     \u001b[38;5;66;03m#  the TypeError.\u001b[39;00m\n\u001b[0;32m   3817\u001b[0m     \u001b[38;5;28mself\u001b[39m\u001b[38;5;241m.\u001b[39m_check_indexing_error(key)\n",
      "\u001b[1;31mKeyError\u001b[0m: 'start_marketing_year'"
     ]
    }
   ],
   "source": [
    "# Merge just on nct_id and clean drug name\n",
    "merged = df_int.merge(\n",
    "    final_df,\n",
    "    on=['nct_id', 'clean_name'],\n",
    "    how='left',\n",
    "    suffixes=('_trial', '_approval')\n",
    ")\n",
    "\n",
    "# Extend approval window to 5 years\n",
    "merged['reached_fda_milestone'] = (\n",
    "    merged['start_marketing_year'].notnull() &\n",
    "    (merged['start_marketing_year'] - merged['Completion_Year'] <= 2) &\n",
    "    (merged['start_marketing_year'] - merged['Completion_Year'] >= 0)\n",
    ")\n",
    "# Safely select columns for final output\n",
    "cols_to_include = ['nct_id', 'Completion_Year', 'Sponsor', 'clean_name', \n",
    "                   'marketing_start_date', 'manufacturer_name', \n",
    "                   'start_marketing_year', 'reached_fda_milestone']\n",
    "\n",
    "result_df = merged[[col for col in cols_to_include if col in merged.columns]]\n",
    "\n",
    "\n",
    "\n",
    "# Determine if the trial reached FDA milestone (approved within 2 years of completion)\n",
    "merged['reached_fda_milestone'] = (\n",
    "    merged['start_marketing_year'].notnull() &\n",
    "    (merged['start_marketing_year'] - merged['Completion_Year'] <= 2) &\n",
    "    (merged['start_marketing_year'] - merged['Completion_Year'] >= 0)\n",
    ")\n",
    "\n",
    "# Build final result DataFrame\n",
    "result_df = merged[['nct_id', 'Completion_Year', 'Sponsor', 'clean_name', \n",
    "                    'marketing_start_date', 'manufacturer_name', \n",
    "                    'start_marketing_year', 'reached_fda_milestone']]\n",
    "\n",
    "# Visualization\n",
    "sns.countplot(data=result_df, x='reached_fda_milestone')\n",
    "plt.title('Trials That Reached FDA Approval Milestone')\n",
    "plt.xlabel('Reached FDA Milestone')\n",
    "plt.ylabel('Number of Trials')\n",
    "plt.show()\n"
   ]
  },
  {
   "cell_type": "code",
   "execution_count": null,
   "id": "fc656464-ca8a-46b9-ada0-41f7a5f5ff0f",
   "metadata": {},
   "outputs": [],
   "source": [
    "result_df.reached_fda_milestone.value_counts()"
   ]
  },
  {
   "cell_type": "code",
   "execution_count": null,
   "id": "a1dc61e9-21ec-49a4-ac38-a76d1e7e3044",
   "metadata": {},
   "outputs": [],
   "source": [
    "result_df.head(2)"
   ]
  },
  {
   "cell_type": "code",
   "execution_count": null,
   "id": "a8bcf52f-3ad7-40fe-a6e9-f24bac3593bc",
   "metadata": {},
   "outputs": [],
   "source": [
    "#groupby -(['nct_id', 'clean_name']\n",
    "grouped_result = merged.groupby(['nct_id', 'clean_name'])['reached_fda_milestone'].any().reset_index()\n",
    "merged = merged.drop(columns=['reached_fda_milestone'])  # avoid conflict\n",
    "merged = merged.merge(grouped_result, on=['nct_id', 'clean_name'], how='left')\n",
    "merged.shape"
   ]
  },
  {
   "cell_type": "code",
   "execution_count": null,
   "id": "9b323dcd-30c9-41f2-a871-68fb0e6f0f85",
   "metadata": {},
   "outputs": [],
   "source": [
    "merged.head(2)"
   ]
  },
  {
   "cell_type": "code",
   "execution_count": null,
   "id": "77ced996-f012-425f-b288-39c076a399e6",
   "metadata": {},
   "outputs": [],
   "source": [
    "merged.nct_id.value_counts()\t"
   ]
  },
  {
   "cell_type": "code",
   "execution_count": null,
   "id": "fc7595c2-fccf-4c2d-81d1-ce18e8525fde",
   "metadata": {},
   "outputs": [],
   "source": [
    "# Count rows per nct_id in both dataframes BEFORE merging\n",
    "print(df_int['nct_id'].value_counts().head())\n",
    "print(final_df['nct_id'].value_counts().head())\n"
   ]
  },
  {
   "cell_type": "code",
   "execution_count": null,
   "id": "d005d70d-0ddb-40b0-9985-99c514b3d6e8",
   "metadata": {},
   "outputs": [],
   "source": [
    "merged_unique = merged.drop_duplicates(subset=['nct_id', 'clean_name'])\n",
    "print(\"Original merged shape:\", merged.shape)\n",
    "print(\"Deduplicated shape:\", merged_unique.shape)    "
   ]
  },
  {
   "cell_type": "code",
   "execution_count": null,
   "id": "be154f9b-559b-421b-9b11-b58783795025",
   "metadata": {},
   "outputs": [],
   "source": [
    "merged_unique.groupby('nct_id')['clean_name'].nunique().sort_values(ascending=False).head(10)"
   ]
  },
  {
   "cell_type": "code",
   "execution_count": null,
   "id": "24ad0a44-7aac-4216-a74f-10bfa1f59cb9",
   "metadata": {},
   "outputs": [],
   "source": [
    "# Aggregate to decide trial-level success\n",
    "trial_success = merged_unique.groupby('nct_id')['reached_fda_milestone'].any().reset_index()\n",
    "\n",
    "# Rename for clarity\n",
    "trial_success = trial_success.rename(columns={'reached_fda_milestone': 'trial_success'})\n",
    "\n",
    "# Optional: merge back with trial metadata if needed\n",
    "df_trial_level = df_int.merge(trial_success, on='nct_id', how='left')\n"
   ]
  },
  {
   "cell_type": "code",
   "execution_count": null,
   "id": "3f74f552-9c7c-4cbb-9a82-c7a9ff662eac",
   "metadata": {},
   "outputs": [],
   "source": [
    "df_trial_level.head()"
   ]
  },
  {
   "cell_type": "code",
   "execution_count": null,
   "id": "c6a02d70-fd67-4687-af95-8a500f24dd46",
   "metadata": {},
   "outputs": [],
   "source": [
    "df_trial_level.trial_success.value_counts()"
   ]
  },
  {
   "cell_type": "code",
   "execution_count": null,
   "id": "e3b306cd-974d-444f-8fc3-5c3ad8efccea",
   "metadata": {},
   "outputs": [],
   "source": [
    "import matplotlib.pyplot as plt\n",
    "import seaborn as sns\n",
    "\n",
    "# Drop missing or non-numeric years\n",
    "approved = merged_unique[merged_unique['reached_fda_milestone'] == True].copy()\n",
    "approved['start_marketing_year'] = pd.to_numeric(approved['start_marketing_year'], errors='coerce')\n",
    "approved = approved.dropna(subset=['start_marketing_year'])\n",
    "\n",
    "# Convert to int for histogram bins\n",
    "approved['start_marketing_year'] = approved['start_marketing_year'].astype(int)\n",
    "\n",
    "# Plot histogram\n",
    "plt.figure(figsize=(10, 5))\n",
    "sns.histplot(data=approved, x='start_marketing_year', bins=range(approved['start_marketing_year'].min(), approved['start_marketing_year'].max() + 1), kde=False, color=\"#66c2a5\")\n",
    "\n",
    "plt.title('FDA Drug Approvals Per Year (from Trials)')\n",
    "plt.xlabel('Start Marketing Year')\n",
    "plt.ylabel('Number of Approvals')\n",
    "plt.xticks(rotation=45)\n",
    "plt.tight_layout()\n",
    "plt.show()\n"
   ]
  },
  {
   "cell_type": "code",
   "execution_count": null,
   "id": "62ea172c-a7cc-4a8b-a915-54b598d0c33f",
   "metadata": {},
   "outputs": [],
   "source": [
    "import pandas as pd\n",
    "import matplotlib.pyplot as plt\n",
    "import seaborn as sns\n",
    "\n",
    "# Ensure correct date type\n",
    "df['marketing_start_year'] = pd.to_datetime(df['marketing_start_date'], errors='coerce').dt.year\n",
    "\n",
    "# Filter valid years\n",
    "df_valid = df.dropna(subset=['marketing_start_year'])\n",
    "df_valid['marketing_start_year'] = df_valid['marketing_start_year'].astype(int)\n",
    "\n",
    "# Deduplicate\n",
    "brand_approvals = df_valid.dropna(subset=['brand_name']).drop_duplicates(subset=['brand_name', 'marketing_start_year'])\n",
    "generic_approvals = df_valid.dropna(subset=['generic_name']).drop_duplicates(subset=['generic_name', 'marketing_start_year'])\n",
    "\n",
    "# Plotting\n",
    "plt.figure(figsize=(12, 6))\n",
    "\n",
    "sns.histplot(\n",
    "    brand_approvals['marketing_start_year'],\n",
    "    bins=range(df_valid['marketing_start_year'].min(), df_valid['marketing_start_year'].max() + 1),\n",
    "    color='steelblue',\n",
    "    label='Brand Name Approvals',\n",
    "    kde=False,\n",
    "    element='step'\n",
    ")\n",
    "\n",
    "sns.histplot(\n",
    "    generic_approvals['marketing_start_year'],\n",
    "    bins=range(df_valid['marketing_start_year'].min(), df_valid['marketing_start_year'].max() + 1),\n",
    "    color='orangered',\n",
    "    label='Generic Name Approvals',\n",
    "    kde=False,\n",
    "    element='step'\n",
    ")\n",
    "\n",
    "plt.title(\"FDA Drug Approvals Per Year\")\n",
    "plt.xlabel(\"Year\")\n",
    "plt.ylabel(\"Number of Unique Approvals\")\n",
    "plt.legend()\n",
    "plt.xticks(rotation=45)\n",
    "plt.tight_layout()\n",
    "plt.show()\n"
   ]
  },
  {
   "cell_type": "code",
   "execution_count": null,
   "id": "90c9cbda-315d-4911-ad1b-2120a5775400",
   "metadata": {},
   "outputs": [],
   "source": [
    "import unicodedata\n",
    "import pandas as pd\n",
    "\n",
    "# Helper to clean strings\n",
    "def clean_text(s):\n",
    "    if pd.isna(s):\n",
    "        return ''\n",
    "    return unicodedata.normalize('NFKD', str(s)).encode('ascii', 'ignore').decode('utf-8').strip().lower()\n",
    "\n",
    "\n",
    "\n",
    "# Clean relevant columns\n",
    "df['clean_brand'] = df['brand_name'].apply(clean_text)\n",
    "df_int['clean_name'] = df_int['name'].apply(clean_text)\n",
    "df_int['generic_name'] = df_int['name'].apply(clean_text)\n",
    "\n",
    "# Match on clean_generic\n",
    "matched_generic = df_int.merge(df, left_on='clean_name', right_on='clean_generic', how='inner')\n",
    "# Match on clean_brand\n",
    "matched_brand = df_int.merge(df, left_on='clean_name', right_on='clean_brand', how='inner')\n",
    "# Combine matched results\n",
    "matched = pd.concat([matched_generic, matched_brand], ignore_index=True)\n",
    "\n",
    "# Match on clean_brand\n",
    "matched = df_int.merge(df, left_on='clean_name', right_on='clean_brand', how='inner')\n",
    "\n",
    "# Build matched_df\n",
    "matched_df = matched[['nct_id', 'name', 'marketing_start_date', 'manufacturer_name']].drop_duplicates()\n",
    "matched_df['Is_FDA_approved'] = True\n",
    "\n",
    "# Identify unmatched (by nct_id + name combo)\n",
    "all_ncts = df_int[['nct_id', 'name']].drop_duplicates()\n",
    "matched_keys = matched_df[['nct_id', 'name']]\n",
    "unmatched_df = pd.merge(all_ncts, matched_keys, on=['nct_id', 'name'], how='outer', indicator=True)\n",
    "unmatched_df = unmatched_df[unmatched_df['_merge'] == 'left_only'].drop(columns=['_merge'])\n",
    "\n",
    "# Add missing info to unmatched\n",
    "unmatched_df['marketing_start_date'] = None\n",
    "unmatched_df['manufacturer_name'] = None\n",
    "unmatched_df['Is_FDA_approved'] = False\n",
    "\n",
    "# Combine both\n",
    "# Ensure clean_name is included in final_df for merge\n",
    "final_df = pd.concat([matched_df, unmatched_df], ignore_index=True)\n",
    "\n",
    "# Add clean_name to final_df (derived from 'name')\n",
    "final_df['clean_name'] = final_df['name'].apply(clean_text)\n",
    "\n",
    "# Merge on nct_id and clean drug name\n",
    "merged = df_int.merge(\n",
    "    final_df,\n",
    "    on=['nct_id', 'clean_name'],\n",
    "    how='left',\n",
    "    suffixes=('_trial', '_approval')\n",
    ")\n",
    "cols_to_include = ['nct_id', 'Completion_Year', 'Sponsor', 'clean_name', 'Study_Status',\n",
    "                   'marketing_start_date', 'manufacturer_name', \n",
    "                   'start_marketing_year', 'reached_fda_milestone']\n",
    "result_df = merged[[col for col in cols_to_include if col in merged.columns]]\n"
   ]
  },
  {
   "cell_type": "markdown",
   "id": "926d19ba-78ad-4486-b597-01605ae29b5c",
   "metadata": {},
   "source": [
    "## Matching study records and drug approval\n",
    "This part is done to label successful studies that ended up with drug approval"
   ]
  },
  {
   "cell_type": "code",
   "execution_count": 143,
   "id": "727fa5f2-aed8-4c6b-8860-a353e6df4bcf",
   "metadata": {},
   "outputs": [
    {
     "data": {
      "image/png": "[encoded data removed]",
      "text/plain": [
       "<Figure size 640x480 with 1 Axes>"
      ]
     },
     "metadata": {},
     "output_type": "display_data"
    }
   ],
   "source": [
    "# clean text function\n",
    "def clean_text(s):\n",
    "    if pd.isna(s):\n",
    "        return ''\n",
    "    return unicodedata.normalize('NFKD', str(s)).encode('ascii', 'ignore').decode('utf-8').strip().lower()\n",
    "\n",
    "# Clean brand and name columns\n",
    "df['clean_brand'] = df['brand_name'].apply(clean_text)\n",
    "df['clean_generic'] = df['generic_name'].apply(clean_text)\n",
    "df_int['clean_name'] = df_int['name'].apply(clean_text)\n",
    "\n",
    "# Match on clean_generic\n",
    "matched_generic = df_int.merge(df, left_on='clean_name', right_on='clean_generic', how='inner')\n",
    "# Match on clean_brand\n",
    "matched_brand = df_int.merge(df, left_on='clean_name', right_on='clean_brand', how='inner')\n",
    "# Combine matched results\n",
    "matched = pd.concat([matched_generic, matched_brand], ignore_index=True)\n",
    "\n",
    "# Build matched_df with approval info\n",
    "matched_df = matched[['nct_id', 'name', 'marketing_start_date', 'manufacturer_name']].drop_duplicates()\n",
    "matched_df['Is_FDA_approved'] = True\n",
    "\n",
    "# Identify unmatched trials\n",
    "all_ncts = df_int[['nct_id', 'name']].drop_duplicates()\n",
    "matched_keys = matched_df[['nct_id', 'name']]\n",
    "unmatched_df = pd.merge(all_ncts, matched_keys, on=['nct_id', 'name'], how='outer', indicator=True)\n",
    "unmatched_df = unmatched_df[unmatched_df['_merge'] == 'left_only'].drop(columns=['_merge'])\n",
    "unmatched_df['marketing_start_date'] = None\n",
    "unmatched_df['manufacturer_name'] = None\n",
    "unmatched_df['Is_FDA_approved'] = False\n",
    "\n",
    "# Combine matched and unmatched and add clean_name for merging\n",
    "final_df = pd.concat([matched_df, unmatched_df], ignore_index=True)\n",
    "final_df['clean_name'] = final_df['name'].apply(clean_text)\n",
    "\n",
    "# Merge with original trial data\n",
    "merged = df_int.merge(final_df, on=['nct_id', 'clean_name'], how='left', suffixes=('_trial', '_approval'))\n",
    "\n",
    "# Extract year from marketing date\n",
    "merged['start_marketing_year'] = pd.to_datetime(merged['marketing_start_date'], errors='coerce').dt.year\n",
    "\n",
    "# Determine if the trial reached FDA milestone (approved within 2 years of completion)\n",
    "merged['reached_fda_milestone'] = (\n",
    "    merged['start_marketing_year'].notnull() &\n",
    "    (merged['start_marketing_year'] - merged['Completion_Year'] <= 2) &\n",
    "    (merged['start_marketing_year'] - merged['Completion_Year'] >= 0)\n",
    ")\n",
    "\n",
    "# Build final result DataFrame\n",
    "result_df = merged[['nct_id', 'Completion_Year', 'clean_name', \n",
    "                    'marketing_start_date', 'manufacturer_name', \n",
    "                    'start_marketing_year', 'reached_fda_milestone']]\n",
    "\n",
    "# Visualization\n",
    "sns.countplot(data=result_df, x='reached_fda_milestone')\n",
    "plt.title('Trials That Reached FDA Approval Milestone')\n",
    "plt.xlabel('Reached FDA Milestone')\n",
    "plt.ylabel('Number of Trials')\n",
    "plt.show()\n"
   ]
  },
  {
   "cell_type": "code",
   "execution_count": 144,
   "id": "aeea468c-b785-47b5-80f9-c2f722c7d2b9",
   "metadata": {},
   "outputs": [
    {
     "data": {
      "text/plain": [
       "7494"
      ]
     },
     "execution_count": 144,
     "metadata": {},
     "output_type": "execute_result"
    }
   ],
   "source": [
    "result_df.clean_name.nunique()"
   ]
  },
  {
   "cell_type": "code",
   "execution_count": 145,
   "id": "08489493-b938-4da9-8ebd-7fb7e4243b7b",
   "metadata": {},
   "outputs": [
    {
     "data": {
      "text/plain": [
       "(103431, 7)"
      ]
     },
     "execution_count": 145,
     "metadata": {},
     "output_type": "execute_result"
    }
   ],
   "source": [
    "result_df.shape"
   ]
  },
  {
   "cell_type": "code",
   "execution_count": 146,
   "id": "bea6ac29-06b3-457e-acca-66ebf76ea026",
   "metadata": {},
   "outputs": [
    {
     "data": {
      "text/html": [
       "<div>\n",
       "<style scoped>\n",
       "    .dataframe tbody tr th:only-of-type {\n",
       "        vertical-align: middle;\n",
       "    }\n",
       "\n",
       "    .dataframe tbody tr th {\n",
       "        vertical-align: top;\n",
       "    }\n",
       "\n",
       "    .dataframe thead th {\n",
       "        text-align: right;\n",
       "    }\n",
       "</style>\n",
       "<table border=\"1\" class=\"dataframe\">\n",
       "  <thead>\n",
       "    <tr style=\"text-align: right;\">\n",
       "      <th></th>\n",
       "      <th>nct_id</th>\n",
       "      <th>Completion_Year</th>\n",
       "      <th>clean_name</th>\n",
       "      <th>marketing_start_date</th>\n",
       "      <th>manufacturer_name</th>\n",
       "      <th>start_marketing_year</th>\n",
       "      <th>reached_fda_milestone</th>\n",
       "    </tr>\n",
       "  </thead>\n",
       "  <tbody>\n",
       "    <tr>\n",
       "      <th>0</th>\n",
       "      <td>NCT01353079</td>\n",
       "      <td>2012.0</td>\n",
       "      <td>short ragweed pollen allergenic extract</td>\n",
       "      <td>None</td>\n",
       "      <td>None</td>\n",
       "      <td>NaN</td>\n",
       "      <td>False</td>\n",
       "    </tr>\n",
       "    <tr>\n",
       "      <th>1</th>\n",
       "      <td>NCT03235479</td>\n",
       "      <td>2018.0</td>\n",
       "      <td>rimegepant</td>\n",
       "      <td>None</td>\n",
       "      <td>None</td>\n",
       "      <td>NaN</td>\n",
       "      <td>False</td>\n",
       "    </tr>\n",
       "  </tbody>\n",
       "</table>\n",
       "</div>"
      ],
      "text/plain": [
       "        nct_id  Completion_Year                               clean_name  \\\n",
       "0  NCT01353079           2012.0  short ragweed pollen allergenic extract   \n",
       "1  NCT03235479           2018.0                               rimegepant   \n",
       "\n",
       "  marketing_start_date manufacturer_name  start_marketing_year  \\\n",
       "0                 None              None                   NaN   \n",
       "1                 None              None                   NaN   \n",
       "\n",
       "   reached_fda_milestone  \n",
       "0                  False  \n",
       "1                  False  "
      ]
     },
     "execution_count": 146,
     "metadata": {},
     "output_type": "execute_result"
    }
   ],
   "source": [
    "unmatches=result_df[\n",
    "(result_df['reached_fda_milestone']==False)]\n",
    "unmatches.head(2)"
   ]
  },
  {
   "cell_type": "markdown",
   "id": "487e8eef-8ef8-4dad-bc26-66d63e3e814f",
   "metadata": {},
   "source": [
    "## groupby 'nct_id' and 'clean_name'"
   ]
  },
  {
   "cell_type": "code",
   "execution_count": 147,
   "id": "c906ef56-d0b8-47f8-a5b8-b9f146d32c42",
   "metadata": {},
   "outputs": [
    {
     "data": {
      "text/plain": [
       "(103431, 13)"
      ]
     },
     "execution_count": 147,
     "metadata": {},
     "output_type": "execute_result"
    }
   ],
   "source": [
    "grouped_result = merged.groupby(['nct_id', 'clean_name'])['reached_fda_milestone'].any().reset_index()\n",
    "merged = merged.drop(columns=['reached_fda_milestone'])  # avoid conflict\n",
    "merged = merged.merge(grouped_result, on=['nct_id', 'clean_name'], how='left')\n",
    "merged.shape"
   ]
  },
  {
   "cell_type": "code",
   "execution_count": 148,
   "id": "c211de68-7e97-4569-ad6e-5838a1854e24",
   "metadata": {},
   "outputs": [
    {
     "data": {
      "text/plain": [
       "(99632, 13)"
      ]
     },
     "execution_count": 148,
     "metadata": {},
     "output_type": "execute_result"
    }
   ],
   "source": [
    "filtered = merged[\n",
    "    (merged['reached_fda_milestone'] == True) |\n",
    "    ((merged['reached_fda_milestone'] == False) & (merged['Completion_Year'] < 2022))\n",
    "]\n",
    "filtered.shape"
   ]
  },
  {
   "cell_type": "code",
   "execution_count": 149,
   "id": "a1be13ab-58fd-42f4-989f-bd10cb202c7f",
   "metadata": {},
   "outputs": [
    {
     "name": "stdout",
     "output_type": "stream",
     "text": [
      "Original merged shape: (99632, 13)\n",
      "Deduplicated shape: (15565, 13)\n"
     ]
    }
   ],
   "source": [
    "merged_unique = filtered.drop_duplicates(subset=['nct_id', 'clean_name'])\n",
    "print(\"Original merged shape:\", filtered.shape)\n",
    "print(\"Deduplicated shape:\", merged_unique.shape)    "
   ]
  },
  {
   "cell_type": "code",
   "execution_count": 150,
   "id": "340cacf1-e3ee-44fa-938a-96fdde6afc69",
   "metadata": {},
   "outputs": [
    {
     "name": "stdout",
     "output_type": "stream",
     "text": [
      "shape: (12130, 2)\n",
      "unique ncts: 12130\n",
      "count: reached_fda_milestone\n",
      "False    10635\n",
      "True      1495\n",
      "Name: count, dtype: int64\n"
     ]
    }
   ],
   "source": [
    "# Aggregate to decide trial-level success - Any\n",
    "trial_success_any = merged_unique.groupby('nct_id')['reached_fda_milestone'].any().reset_index()\n",
    "\n",
    "print('shape:', trial_success_any.shape)\n",
    "print('unique ncts:', trial_success_any.nct_id.nunique())\n",
    "print('count:', trial_success_any.reached_fda_milestone.value_counts())"
   ]
  },
  {
   "cell_type": "code",
   "execution_count": 151,
   "id": "62284127-6c62-420a-a990-5bc8aafbd3d0",
   "metadata": {},
   "outputs": [],
   "source": [
    "trial_success_any.to_csv('FDA_trial_success_any3_new.csv', index=False)"
   ]
  }
 ],
 "metadata": {
  "kernelspec": {
   "display_name": "Python 3 (ipykernel)",
   "language": "python",
   "name": "python3"
  },
  "language_info": {
   "codemirror_mode": {
    "name": "ipython",
    "version": 3
   },
   "file_extension": ".py",
   "mimetype": "text/x-python",
   "name": "python",
   "nbconvert_exporter": "python",
   "pygments_lexer": "ipython3",
   "version": "3.12.3"
  }
 },
 "nbformat": 4,
 "nbformat_minor": 5
}
