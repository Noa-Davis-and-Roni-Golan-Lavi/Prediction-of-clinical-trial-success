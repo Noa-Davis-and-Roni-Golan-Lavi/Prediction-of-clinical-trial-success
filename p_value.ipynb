{
 "cells": [
  {
   "cell_type": "code",
   "execution_count": 1,
   "id": "21a684c1-945e-478e-b449-aac484ed1779",
   "metadata": {},
   "outputs": [
    {
     "name": "stdout",
     "output_type": "stream",
     "text": [
      "   outcome_analysis_id       nct_id  outcome_id  p_value\n",
      "0             35794071  NCT00798707    70015184    0.452\n",
      "1             35794072  NCT00798707    70015184    0.016\n",
      "24025\n",
      "(292939, 4)\n"
     ]
    }
   ],
   "source": [
    "import pandas as pd\n",
    "outcome_analyses=pd.read_csv('outcome_analyses.csv',usecols=['outcome_analysis_id', 'nct_id', 'outcome_id','p_value'])\n",
    "print(outcome_analyses.head(2))\n",
    "print(outcome_analyses.nct_id.nunique())\n",
    "print(outcome_analyses.shape)"
   ]
  },
  {
   "cell_type": "code",
   "execution_count": 2,
   "id": "b9d77d5a-c900-4a2f-a5c7-3edb732e8f57",
   "metadata": {},
   "outputs": [
    {
     "name": "stdout",
     "output_type": "stream",
     "text": [
      "   outcome_id         outcome_type\n",
      "0    69958276              PRIMARY\n",
      "1    69958277  OTHER_PRE_SPECIFIED\n",
      "(579892, 2)\n"
     ]
    }
   ],
   "source": [
    "outcomes=pd.read_csv('outcomes.csv',usecols=['outcome_id','outcome_type'])\n",
    "print(outcomes.head(2))\n",
    "print(outcomes.shape)"
   ]
  },
  {
   "cell_type": "code",
   "execution_count": 3,
   "id": "d9abafb8-4c0d-4c5e-9f37-216654c6b105",
   "metadata": {},
   "outputs": [
    {
     "data": {
      "text/html": [
       "<div>\n",
       "<style scoped>\n",
       "    .dataframe tbody tr th:only-of-type {\n",
       "        vertical-align: middle;\n",
       "    }\n",
       "\n",
       "    .dataframe tbody tr th {\n",
       "        vertical-align: top;\n",
       "    }\n",
       "\n",
       "    .dataframe thead th {\n",
       "        text-align: right;\n",
       "    }\n",
       "</style>\n",
       "<table border=\"1\" class=\"dataframe\">\n",
       "  <thead>\n",
       "    <tr style=\"text-align: right;\">\n",
       "      <th></th>\n",
       "      <th>outcome_analysis_id</th>\n",
       "      <th>nct_id</th>\n",
       "      <th>outcome_id</th>\n",
       "      <th>p_value</th>\n",
       "      <th>outcome_type</th>\n",
       "    </tr>\n",
       "  </thead>\n",
       "  <tbody>\n",
       "    <tr>\n",
       "      <th>0</th>\n",
       "      <td>35794071</td>\n",
       "      <td>NCT00798707</td>\n",
       "      <td>70015184</td>\n",
       "      <td>0.452</td>\n",
       "      <td>PRIMARY</td>\n",
       "    </tr>\n",
       "    <tr>\n",
       "      <th>1</th>\n",
       "      <td>35794072</td>\n",
       "      <td>NCT00798707</td>\n",
       "      <td>70015184</td>\n",
       "      <td>0.016</td>\n",
       "      <td>PRIMARY</td>\n",
       "    </tr>\n",
       "    <tr>\n",
       "      <th>2</th>\n",
       "      <td>35794073</td>\n",
       "      <td>NCT00798707</td>\n",
       "      <td>70015185</td>\n",
       "      <td>0.160</td>\n",
       "      <td>SECONDARY</td>\n",
       "    </tr>\n",
       "    <tr>\n",
       "      <th>3</th>\n",
       "      <td>35794074</td>\n",
       "      <td>NCT00798707</td>\n",
       "      <td>70015185</td>\n",
       "      <td>0.028</td>\n",
       "      <td>SECONDARY</td>\n",
       "    </tr>\n",
       "    <tr>\n",
       "      <th>4</th>\n",
       "      <td>35735797</td>\n",
       "      <td>NCT02075476</td>\n",
       "      <td>69896008</td>\n",
       "      <td>0.048</td>\n",
       "      <td>PRIMARY</td>\n",
       "    </tr>\n",
       "  </tbody>\n",
       "</table>\n",
       "</div>"
      ],
      "text/plain": [
       "   outcome_analysis_id       nct_id  outcome_id  p_value outcome_type\n",
       "0             35794071  NCT00798707    70015184    0.452      PRIMARY\n",
       "1             35794072  NCT00798707    70015184    0.016      PRIMARY\n",
       "2             35794073  NCT00798707    70015185    0.160    SECONDARY\n",
       "3             35794074  NCT00798707    70015185    0.028    SECONDARY\n",
       "4             35735797  NCT02075476    69896008    0.048      PRIMARY"
      ]
     },
     "execution_count": 3,
     "metadata": {},
     "output_type": "execute_result"
    }
   ],
   "source": [
    "df_comb = outcome_analyses.merge(\n",
    "    outcomes,\n",
    "    on='outcome_id',\n",
    "    how='left',\n",
    "    validate='many_to_one'  \n",
    ")\n",
    "df_comb.head(5)"
   ]
  },
  {
   "cell_type": "code",
   "execution_count": 4,
   "id": "7eeb4d4f-e896-42a3-920f-15079fd4a9d9",
   "metadata": {},
   "outputs": [
    {
     "name": "stdout",
     "output_type": "stream",
     "text": [
      "    outcome_analysis_id       nct_id  outcome_id  p_value outcome_type\n",
      "0              35794071  NCT00798707    70015184   0.4520      PRIMARY\n",
      "1              35794072  NCT00798707    70015184   0.0160      PRIMARY\n",
      "4              35735797  NCT02075476    69896008   0.0480      PRIMARY\n",
      "15             35852921  NCT02815267    70131019   0.0083      PRIMARY\n",
      "16             35852922  NCT02815267    70131020   0.1805      PRIMARY\n",
      "22582\n",
      "(76458, 5)\n"
     ]
    }
   ],
   "source": [
    "outcomes_prim=df_comb[df_comb.outcome_type=='PRIMARY']\n",
    "\n",
    "print(outcomes_prim.head(5))\n",
    "print(outcomes_prim.nct_id.nunique())\n",
    "print(outcomes_prim.shape)"
   ]
  },
  {
   "cell_type": "code",
   "execution_count": 5,
   "id": "8798eea0-5312-4e02-863b-cecd0babb3ba",
   "metadata": {},
   "outputs": [
    {
     "name": "stdout",
     "output_type": "stream",
     "text": [
      "        nct_id study_result\n",
      "0  NCT00000378      success\n",
      "1  NCT00000392         fail\n",
      "2  NCT00000620         fail\n",
      "3  NCT00001656      success\n",
      "4  NCT00001723      success\n",
      "22582\n",
      "(22582, 2)\n",
      "study_result\n",
      "success    12108\n",
      "fail        6781\n",
      "unknown     3693\n",
      "Name: count, dtype: int64\n"
     ]
    }
   ],
   "source": [
    "def result_label(x):\n",
    "    if x.isna().all():\n",
    "        return 'unknown'\n",
    "    return 'success' if (x <= 0.05).any() else 'fail'\n",
    "\n",
    "study_results = outcomes_prim.groupby('nct_id')['p_value'].apply(result_label).reset_index(name='study_result')\n",
    "print(study_results.head(5))\n",
    "print(study_results.nct_id.nunique())\n",
    "print(study_results.shape)\n",
    "print(study_results.study_result.value_counts())"
   ]
  },
  {
   "cell_type": "code",
   "execution_count": 6,
   "id": "98a025b0-ba80-493d-9ab5-15df3f861a02",
   "metadata": {},
   "outputs": [],
   "source": [
    "study_results.to_csv('CTG_PVAL.csv', index=False)"
   ]
  },
  {
   "cell_type": "markdown",
   "id": "b0648f06-1bd8-4376-87f1-0b5b5cb2a772",
   "metadata": {},
   "source": [
    "## Merging with CTG dataset"
   ]
  },
  {
   "cell_type": "code",
   "execution_count": 8,
   "id": "7f68c4cc-c5a5-4ca5-9038-579cb2524ca6",
   "metadata": {},
   "outputs": [],
   "source": [
    "df=pd.read_csv('CTG_Extra_features.csv')"
   ]
  },
  {
   "cell_type": "code",
   "execution_count": 9,
   "id": "98333f15-625c-445d-bda6-795b619f4650",
   "metadata": {},
   "outputs": [],
   "source": [
    "study_results.rename(columns={\n",
    "    'nct_id':'NCT_Number',\n",
    "    'study_result':'study_success'},inplace=True)"
   ]
  },
  {
   "cell_type": "code",
   "execution_count": 11,
   "id": "b0d8357a-d357-41bb-947c-a4d9e8295d35",
   "metadata": {},
   "outputs": [
    {
     "data": {
      "text/plain": [
       "(164296, 71)"
      ]
     },
     "execution_count": 11,
     "metadata": {},
     "output_type": "execute_result"
    }
   ],
   "source": [
    "# merge with main df\n",
    "df_merged = df.merge(\n",
    "    study_results,\n",
    "    on='NCT_Number',\n",
    "    how='left'\n",
    ")\n",
    "df_merged.shape"
   ]
  },
  {
   "cell_type": "code",
   "execution_count": 13,
   "id": "8f7fcfb6-69cc-46e3-810c-a48bbffdf63d",
   "metadata": {},
   "outputs": [],
   "source": [
    "df_merged.to_csv('ctgALL_Extra_features0206_pval.csv', index=False)"
   ]
  }
 ],
 "metadata": {
  "kernelspec": {
   "display_name": "Python 3 (ipykernel)",
   "language": "python",
   "name": "python3"
  },
  "language_info": {
   "codemirror_mode": {
    "name": "ipython",
    "version": 3
   },
   "file_extension": ".py",
   "mimetype": "text/x-python",
   "name": "python",
   "nbconvert_exporter": "python",
   "pygments_lexer": "ipython3",
   "version": "3.12.3"
  }
 },
 "nbformat": 4,
 "nbformat_minor": 5
}
