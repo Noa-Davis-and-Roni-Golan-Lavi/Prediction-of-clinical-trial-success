{
 "cells": [
  {
   "cell_type": "markdown",
   "id": "6db607a9-a795-457a-bf01-d07a77dfb625",
   "metadata": {},
   "source": [
    "## Adding new features to the CTG dataset using the following sources:\n",
    "1. AACT - a publicly available relational database that contains all information (protocol and result data elements) about every study registered in ClinicalTrials.gov.: https://aact.ctti-clinicaltrials.org/\n",
    "2.  Pharma 50: The top pharma companies in the world for 2025: https://www.drugdiscoverytrends.com/pharma-50-the-50-largest-pharmaceutical-companies-in-the-world-for-2025/"
   ]
  },
  {
   "cell_type": "markdown",
   "id": "34ec5df5-ad7f-49c7-bb96-9d1364fa7e89",
   "metadata": {},
   "source": [
    "#### New feature: number of groups\n",
    "Based on AACT design_groups table"
   ]
  },
  {
   "cell_type": "code",
   "execution_count": 2,
   "id": "cb3159f6-587f-4a67-be27-ca084036debf",
   "metadata": {},
   "outputs": [
    {
     "data": {
      "text/plain": [
       "(436180, 3)"
      ]
     },
     "execution_count": 2,
     "metadata": {},
     "output_type": "execute_result"
    }
   ],
   "source": [
    "# Uploading neccessary columns from the CTG dataset\n",
    "import pandas as pd\n",
    "df=pd.read_csv('ctgAll_EDA1205_atcc_std_3005_3.csv', usecols=['NCT_Number','Enrollment','Sponsor'])\n",
    "df.shape"
   ]
  },
  {
   "cell_type": "code",
   "execution_count": 3,
   "id": "50183b07-1d68-4f9b-8435-8121fee23e6a",
   "metadata": {},
   "outputs": [
    {
     "name": "stdout",
     "output_type": "stream",
     "text": [
      "(978499, 3)\n",
      "Index(['design_group_id', 'nct_id', 'group_type'], dtype='object')\n"
     ]
    }
   ],
   "source": [
    "groups=pd.read_csv('design_groups0520.csv',usecols=['design_group_id', 'nct_id', 'group_type'])\n",
    "print(groups.shape)\n",
    "print(groups.columns)"
   ]
  },
  {
   "cell_type": "code",
   "execution_count": 4,
   "id": "e4649cac-60aa-40e9-8fc5-0f36f1cacf41",
   "metadata": {},
   "outputs": [
    {
     "data": {
      "text/html": [
       "<div>\n",
       "<style scoped>\n",
       "    .dataframe tbody tr th:only-of-type {\n",
       "        vertical-align: middle;\n",
       "    }\n",
       "\n",
       "    .dataframe tbody tr th {\n",
       "        vertical-align: top;\n",
       "    }\n",
       "\n",
       "    .dataframe thead th {\n",
       "        text-align: right;\n",
       "    }\n",
       "</style>\n",
       "<table border=\"1\" class=\"dataframe\">\n",
       "  <thead>\n",
       "    <tr style=\"text-align: right;\">\n",
       "      <th></th>\n",
       "      <th>design_group_id</th>\n",
       "      <th>NCT_Number</th>\n",
       "      <th>group_type</th>\n",
       "      <th>No_of_Groups</th>\n",
       "    </tr>\n",
       "  </thead>\n",
       "  <tbody>\n",
       "    <tr>\n",
       "      <th>0</th>\n",
       "      <td>131079376</td>\n",
       "      <td>NCT02089971</td>\n",
       "      <td>NaN</td>\n",
       "      <td>1</td>\n",
       "    </tr>\n",
       "    <tr>\n",
       "      <th>1</th>\n",
       "      <td>131079400</td>\n",
       "      <td>NCT05827666</td>\n",
       "      <td>ACTIVE_COMPARATOR</td>\n",
       "      <td>3</td>\n",
       "    </tr>\n",
       "    <tr>\n",
       "      <th>4</th>\n",
       "      <td>131079410</td>\n",
       "      <td>NCT04384679</td>\n",
       "      <td>EXPERIMENTAL</td>\n",
       "      <td>2</td>\n",
       "    </tr>\n",
       "    <tr>\n",
       "      <th>6</th>\n",
       "      <td>131079412</td>\n",
       "      <td>NCT04086979</td>\n",
       "      <td>EXPERIMENTAL</td>\n",
       "      <td>2</td>\n",
       "    </tr>\n",
       "    <tr>\n",
       "      <th>8</th>\n",
       "      <td>131079424</td>\n",
       "      <td>NCT04294979</td>\n",
       "      <td>EXPERIMENTAL</td>\n",
       "      <td>1</td>\n",
       "    </tr>\n",
       "  </tbody>\n",
       "</table>\n",
       "</div>"
      ],
      "text/plain": [
       "   design_group_id   NCT_Number         group_type  No_of_Groups\n",
       "0        131079376  NCT02089971                NaN             1\n",
       "1        131079400  NCT05827666  ACTIVE_COMPARATOR             3\n",
       "4        131079410  NCT04384679       EXPERIMENTAL             2\n",
       "6        131079412  NCT04086979       EXPERIMENTAL             2\n",
       "8        131079424  NCT04294979       EXPERIMENTAL             1"
      ]
     },
     "execution_count": 4,
     "metadata": {},
     "output_type": "execute_result"
    }
   ],
   "source": [
    "# Step 1: Add 'No_of_Group' column by counting design_group_id per nct_id\n",
    "groups['No_of_Groups'] = groups.groupby('nct_id')['design_group_id'].transform('count')\n",
    "\n",
    "# Step 2: Deduplicate on 'nct_id' and rename to 'NCT_Number'\n",
    "groups_unique = groups.drop_duplicates(subset='nct_id').rename(columns={'nct_id': 'NCT_Number'})\n",
    "\n",
    "groups_unique.head()\n"
   ]
  },
  {
   "cell_type": "code",
   "execution_count": 5,
   "id": "9c5b29a4-a5d6-4395-aebd-a9bfe47b409d",
   "metadata": {},
   "outputs": [
    {
     "data": {
      "text/html": [
       "<div>\n",
       "<style scoped>\n",
       "    .dataframe tbody tr th:only-of-type {\n",
       "        vertical-align: middle;\n",
       "    }\n",
       "\n",
       "    .dataframe tbody tr th {\n",
       "        vertical-align: top;\n",
       "    }\n",
       "\n",
       "    .dataframe thead th {\n",
       "        text-align: right;\n",
       "    }\n",
       "</style>\n",
       "<table border=\"1\" class=\"dataframe\">\n",
       "  <thead>\n",
       "    <tr style=\"text-align: right;\">\n",
       "      <th></th>\n",
       "      <th>NCT_Number</th>\n",
       "      <th>Sponsor</th>\n",
       "      <th>Enrollment</th>\n",
       "      <th>No_of_Groups</th>\n",
       "    </tr>\n",
       "  </thead>\n",
       "  <tbody>\n",
       "    <tr>\n",
       "      <th>0</th>\n",
       "      <td>NCT00517179</td>\n",
       "      <td>Hospital Authority, Hong Kong</td>\n",
       "      <td>40.0</td>\n",
       "      <td>1.0</td>\n",
       "    </tr>\n",
       "    <tr>\n",
       "      <th>1</th>\n",
       "      <td>NCT00812279</td>\n",
       "      <td>Philip Morris Products S.A.</td>\n",
       "      <td>112.0</td>\n",
       "      <td>3.0</td>\n",
       "    </tr>\n",
       "    <tr>\n",
       "      <th>2</th>\n",
       "      <td>NCT03878979</td>\n",
       "      <td>Sidney Kimmel Comprehensive Cancer Center at J...</td>\n",
       "      <td>26.0</td>\n",
       "      <td>2.0</td>\n",
       "    </tr>\n",
       "    <tr>\n",
       "      <th>3</th>\n",
       "      <td>NCT03058679</td>\n",
       "      <td>University of Pennsylvania</td>\n",
       "      <td>197.0</td>\n",
       "      <td>2.0</td>\n",
       "    </tr>\n",
       "    <tr>\n",
       "      <th>4</th>\n",
       "      <td>NCT03960879</td>\n",
       "      <td>Lei Li</td>\n",
       "      <td>300.0</td>\n",
       "      <td>1.0</td>\n",
       "    </tr>\n",
       "  </tbody>\n",
       "</table>\n",
       "</div>"
      ],
      "text/plain": [
       "    NCT_Number                                            Sponsor  Enrollment  \\\n",
       "0  NCT00517179                      Hospital Authority, Hong Kong        40.0   \n",
       "1  NCT00812279                        Philip Morris Products S.A.       112.0   \n",
       "2  NCT03878979  Sidney Kimmel Comprehensive Cancer Center at J...        26.0   \n",
       "3  NCT03058679                         University of Pennsylvania       197.0   \n",
       "4  NCT03960879                                             Lei Li       300.0   \n",
       "\n",
       "   No_of_Groups  \n",
       "0           1.0  \n",
       "1           3.0  \n",
       "2           2.0  \n",
       "3           2.0  \n",
       "4           1.0  "
      ]
     },
     "execution_count": 5,
     "metadata": {},
     "output_type": "execute_result"
    }
   ],
   "source": [
    "# Step 3: Merge with main df \n",
    "merged = df.merge(groups_unique[['NCT_Number', 'No_of_Groups']], on='NCT_Number', how='left')\n",
    "merged['No_of_Groups'] = merged['No_of_Groups'].fillna(1)\n",
    "merged.head()"
   ]
  },
  {
   "cell_type": "code",
   "execution_count": 6,
   "id": "9cd2082f-c811-4411-be43-901b02d2dc6d",
   "metadata": {},
   "outputs": [
    {
     "data": {
      "text/html": [
       "<div>\n",
       "<style scoped>\n",
       "    .dataframe tbody tr th:only-of-type {\n",
       "        vertical-align: middle;\n",
       "    }\n",
       "\n",
       "    .dataframe tbody tr th {\n",
       "        vertical-align: top;\n",
       "    }\n",
       "\n",
       "    .dataframe thead th {\n",
       "        text-align: right;\n",
       "    }\n",
       "</style>\n",
       "<table border=\"1\" class=\"dataframe\">\n",
       "  <thead>\n",
       "    <tr style=\"text-align: right;\">\n",
       "      <th></th>\n",
       "      <th>NCT_Number</th>\n",
       "      <th>Sponsor</th>\n",
       "      <th>Enrollment</th>\n",
       "      <th>No_of_Groups</th>\n",
       "      <th>Group_Size</th>\n",
       "    </tr>\n",
       "  </thead>\n",
       "  <tbody>\n",
       "    <tr>\n",
       "      <th>0</th>\n",
       "      <td>NCT00517179</td>\n",
       "      <td>Hospital Authority, Hong Kong</td>\n",
       "      <td>40.0</td>\n",
       "      <td>1.0</td>\n",
       "      <td>40.000000</td>\n",
       "    </tr>\n",
       "    <tr>\n",
       "      <th>1</th>\n",
       "      <td>NCT00812279</td>\n",
       "      <td>Philip Morris Products S.A.</td>\n",
       "      <td>112.0</td>\n",
       "      <td>3.0</td>\n",
       "      <td>37.333333</td>\n",
       "    </tr>\n",
       "    <tr>\n",
       "      <th>2</th>\n",
       "      <td>NCT03878979</td>\n",
       "      <td>Sidney Kimmel Comprehensive Cancer Center at J...</td>\n",
       "      <td>26.0</td>\n",
       "      <td>2.0</td>\n",
       "      <td>13.000000</td>\n",
       "    </tr>\n",
       "    <tr>\n",
       "      <th>3</th>\n",
       "      <td>NCT03058679</td>\n",
       "      <td>University of Pennsylvania</td>\n",
       "      <td>197.0</td>\n",
       "      <td>2.0</td>\n",
       "      <td>98.500000</td>\n",
       "    </tr>\n",
       "    <tr>\n",
       "      <th>4</th>\n",
       "      <td>NCT03960879</td>\n",
       "      <td>Lei Li</td>\n",
       "      <td>300.0</td>\n",
       "      <td>1.0</td>\n",
       "      <td>300.000000</td>\n",
       "    </tr>\n",
       "  </tbody>\n",
       "</table>\n",
       "</div>"
      ],
      "text/plain": [
       "    NCT_Number                                            Sponsor  Enrollment  \\\n",
       "0  NCT00517179                      Hospital Authority, Hong Kong        40.0   \n",
       "1  NCT00812279                        Philip Morris Products S.A.       112.0   \n",
       "2  NCT03878979  Sidney Kimmel Comprehensive Cancer Center at J...        26.0   \n",
       "3  NCT03058679                         University of Pennsylvania       197.0   \n",
       "4  NCT03960879                                             Lei Li       300.0   \n",
       "\n",
       "   No_of_Groups  Group_Size  \n",
       "0           1.0   40.000000  \n",
       "1           3.0   37.333333  \n",
       "2           2.0   13.000000  \n",
       "3           2.0   98.500000  \n",
       "4           1.0  300.000000  "
      ]
     },
     "execution_count": 6,
     "metadata": {},
     "output_type": "execute_result"
    }
   ],
   "source": [
    "# Step 4: Create 'Group_Size' column by dividing 'Enrollment' by 'No_of_Group'\n",
    "merged['Group_Size'] = merged['Enrollment'] / merged['No_of_Groups']\n",
    "merged.head(5)"
   ]
  },
  {
   "cell_type": "markdown",
   "id": "76c27ab2-65b5-4f6d-8386-22db34c9296a",
   "metadata": {},
   "source": [
    "#### New feature: Does the Sponsor belong to the list of \"big pharma\" companies \n",
    "Based on Pharma 50 webpage"
   ]
  },
  {
   "cell_type": "code",
   "execution_count": 7,
   "id": "9781b353-80a2-489d-8606-c81e55d71667",
   "metadata": {},
   "outputs": [
    {
     "data": {
      "text/html": [
       "<div>\n",
       "<style scoped>\n",
       "    .dataframe tbody tr th:only-of-type {\n",
       "        vertical-align: middle;\n",
       "    }\n",
       "\n",
       "    .dataframe tbody tr th {\n",
       "        vertical-align: top;\n",
       "    }\n",
       "\n",
       "    .dataframe thead th {\n",
       "        text-align: right;\n",
       "    }\n",
       "</style>\n",
       "<table border=\"1\" class=\"dataframe\">\n",
       "  <thead>\n",
       "    <tr style=\"text-align: right;\">\n",
       "      <th></th>\n",
       "      <th>NCT_Number</th>\n",
       "      <th>Sponsor</th>\n",
       "      <th>Enrollment</th>\n",
       "      <th>No_of_Groups</th>\n",
       "      <th>Group_Size</th>\n",
       "      <th>Sponsor_clean</th>\n",
       "      <th>Is_Big_Pharma</th>\n",
       "    </tr>\n",
       "  </thead>\n",
       "  <tbody>\n",
       "    <tr>\n",
       "      <th>0</th>\n",
       "      <td>NCT00517179</td>\n",
       "      <td>Hospital Authority, Hong Kong</td>\n",
       "      <td>40.0</td>\n",
       "      <td>1.0</td>\n",
       "      <td>40.000000</td>\n",
       "      <td>hospital authority, hong kong</td>\n",
       "      <td>False</td>\n",
       "    </tr>\n",
       "    <tr>\n",
       "      <th>1</th>\n",
       "      <td>NCT00812279</td>\n",
       "      <td>Philip Morris Products S.A.</td>\n",
       "      <td>112.0</td>\n",
       "      <td>3.0</td>\n",
       "      <td>37.333333</td>\n",
       "      <td>philip morris products s.a.</td>\n",
       "      <td>False</td>\n",
       "    </tr>\n",
       "    <tr>\n",
       "      <th>2</th>\n",
       "      <td>NCT03878979</td>\n",
       "      <td>Sidney Kimmel Comprehensive Cancer Center at J...</td>\n",
       "      <td>26.0</td>\n",
       "      <td>2.0</td>\n",
       "      <td>13.000000</td>\n",
       "      <td>sidney kimmel comprehensive cancer center at j...</td>\n",
       "      <td>False</td>\n",
       "    </tr>\n",
       "    <tr>\n",
       "      <th>3</th>\n",
       "      <td>NCT03058679</td>\n",
       "      <td>University of Pennsylvania</td>\n",
       "      <td>197.0</td>\n",
       "      <td>2.0</td>\n",
       "      <td>98.500000</td>\n",
       "      <td>university of pennsylvania</td>\n",
       "      <td>False</td>\n",
       "    </tr>\n",
       "    <tr>\n",
       "      <th>4</th>\n",
       "      <td>NCT03960879</td>\n",
       "      <td>Lei Li</td>\n",
       "      <td>300.0</td>\n",
       "      <td>1.0</td>\n",
       "      <td>300.000000</td>\n",
       "      <td>lei li</td>\n",
       "      <td>False</td>\n",
       "    </tr>\n",
       "  </tbody>\n",
       "</table>\n",
       "</div>"
      ],
      "text/plain": [
       "    NCT_Number                                            Sponsor  Enrollment  \\\n",
       "0  NCT00517179                      Hospital Authority, Hong Kong        40.0   \n",
       "1  NCT00812279                        Philip Morris Products S.A.       112.0   \n",
       "2  NCT03878979  Sidney Kimmel Comprehensive Cancer Center at J...        26.0   \n",
       "3  NCT03058679                         University of Pennsylvania       197.0   \n",
       "4  NCT03960879                                             Lei Li       300.0   \n",
       "\n",
       "   No_of_Groups  Group_Size  \\\n",
       "0           1.0   40.000000   \n",
       "1           3.0   37.333333   \n",
       "2           2.0   13.000000   \n",
       "3           2.0   98.500000   \n",
       "4           1.0  300.000000   \n",
       "\n",
       "                                       Sponsor_clean  Is_Big_Pharma  \n",
       "0                      hospital authority, hong kong          False  \n",
       "1                        philip morris products s.a.          False  \n",
       "2  sidney kimmel comprehensive cancer center at j...          False  \n",
       "3                         university of pennsylvania          False  \n",
       "4                                             lei li          False  "
      ]
     },
     "execution_count": 7,
     "metadata": {},
     "output_type": "execute_result"
    }
   ],
   "source": [
    "# Step 1: Define a list of Big Pharma companies\n",
    "big_pharma_list = [\n",
    "    \"Pfizer\", \"Johnson & Johnson\", \"Roche\", \"Novartis\", \"Merck\", \"Sanofi\", \"AstraZeneca\", \n",
    "    \"GlaxoSmithKline\", \"Bristol-Myers Squibb\", \"AbbVie\", \"Amgen\", \"Eli Lilly\", \"Bayer\", \"Takeda\"\n",
    "]\n",
    "\n",
    "# Normalize names for better matching\n",
    "big_pharma_normalized = [name.lower() for name in big_pharma_list]\n",
    "\n",
    "# Step 2: Create a normalized version of sponsor names in the main dataframe\n",
    "merged['Sponsor_clean'] = merged['Sponsor'].str.lower().str.strip()\n",
    "\n",
    "# Step 3: Check if sponsor is in Big Pharma list\n",
    "merged['Is_Big_Pharma'] = merged['Sponsor_clean'].apply(\n",
    "    lambda x: any(bp in x for bp in big_pharma_normalized)\n",
    ")\n",
    "merged.head()"
   ]
  },
  {
   "cell_type": "markdown",
   "id": "9f12e165-1af7-45bb-aafb-afb5ee65139a",
   "metadata": {},
   "source": [
    "#### New Features: disease category\n",
    "To add a disease-specific category (e.g., cancer), we conducted a dedicated search on ClinicalTrials.gov using relevant condition keywords. This process yielded a list of NCT IDs corresponding to trials related to the condition of interest. We saved this list in a separate file and then merged it with our main dataset to create a binary indicator feature"
   ]
  },
  {
   "cell_type": "code",
   "execution_count": 8,
   "id": "cfab6f00-740a-4b39-9e2d-95983a0d553d",
   "metadata": {},
   "outputs": [
    {
     "data": {
      "text/plain": [
       "(114646, 1)"
      ]
     },
     "execution_count": 8,
     "metadata": {},
     "output_type": "execute_result"
    }
   ],
   "source": [
    "cancer=pd.read_csv('cancer.csv')\n",
    "cancer.shape"
   ]
  },
  {
   "cell_type": "code",
   "execution_count": 9,
   "id": "0098fada-c095-4b54-aa35-34be5a81efed",
   "metadata": {},
   "outputs": [
    {
     "data": {
      "text/html": [
       "<div>\n",
       "<style scoped>\n",
       "    .dataframe tbody tr th:only-of-type {\n",
       "        vertical-align: middle;\n",
       "    }\n",
       "\n",
       "    .dataframe tbody tr th {\n",
       "        vertical-align: top;\n",
       "    }\n",
       "\n",
       "    .dataframe thead th {\n",
       "        text-align: right;\n",
       "    }\n",
       "</style>\n",
       "<table border=\"1\" class=\"dataframe\">\n",
       "  <thead>\n",
       "    <tr style=\"text-align: right;\">\n",
       "      <th></th>\n",
       "      <th>NCT_Number</th>\n",
       "      <th>Sponsor</th>\n",
       "      <th>Enrollment</th>\n",
       "      <th>No_of_Groups</th>\n",
       "      <th>Group_Size</th>\n",
       "      <th>Sponsor_clean</th>\n",
       "      <th>Is_Big_Pharma</th>\n",
       "      <th>Is_Cancer</th>\n",
       "    </tr>\n",
       "  </thead>\n",
       "  <tbody>\n",
       "    <tr>\n",
       "      <th>0</th>\n",
       "      <td>NCT00517179</td>\n",
       "      <td>Hospital Authority, Hong Kong</td>\n",
       "      <td>40.0</td>\n",
       "      <td>1.0</td>\n",
       "      <td>40.0</td>\n",
       "      <td>hospital authority, hong kong</td>\n",
       "      <td>False</td>\n",
       "      <td>False</td>\n",
       "    </tr>\n",
       "  </tbody>\n",
       "</table>\n",
       "</div>"
      ],
      "text/plain": [
       "    NCT_Number                        Sponsor  Enrollment  No_of_Groups  \\\n",
       "0  NCT00517179  Hospital Authority, Hong Kong        40.0           1.0   \n",
       "\n",
       "   Group_Size                  Sponsor_clean  Is_Big_Pharma  Is_Cancer  \n",
       "0        40.0  hospital authority, hong kong          False      False  "
      ]
     },
     "execution_count": 9,
     "metadata": {},
     "output_type": "execute_result"
    }
   ],
   "source": [
    "# Merge with indicator to see which rows matched\n",
    "df1 = merged.merge(cancer[['NCT_Number']], on='NCT_Number', how='left', indicator='cancer_flag')\n",
    "\n",
    "# Create Is_Cancer column: True if matched, else False\n",
    "df1['Is_Cancer'] = df1['cancer_flag'] == 'both'\n",
    "\n",
    "# Drop the helper column if not needed\n",
    "df1 = df1.drop(columns=['cancer_flag'])\n",
    "df1.head(1)\n"
   ]
  },
  {
   "cell_type": "code",
   "execution_count": 10,
   "id": "238f70c3-3e9d-4e8b-888b-6930c48dafea",
   "metadata": {},
   "outputs": [
    {
     "data": {
      "text/plain": [
       "Is_Cancer\n",
       "False    355087\n",
       "True      81093\n",
       "Name: count, dtype: int64"
      ]
     },
     "execution_count": 10,
     "metadata": {},
     "output_type": "execute_result"
    }
   ],
   "source": [
    "df1.Is_Cancer.value_counts()"
   ]
  },
  {
   "cell_type": "code",
   "execution_count": 11,
   "id": "e76c7c7d-0798-4d52-8dee-5776090d2051",
   "metadata": {},
   "outputs": [],
   "source": [
    "Neurological=pd.read_csv('Neurological.csv')\n",
    "# Merge with the indicator to see which rows matched\n",
    "df2 = df1.merge(Neurological['NCT_Number'], on='NCT_Number', how='left', indicator='Neurological_flag')\n"
   ]
  },
  {
   "cell_type": "code",
   "execution_count": 12,
   "id": "b0ad8aff-8de1-4dbd-9a35-353a9ecc9546",
   "metadata": {},
   "outputs": [
    {
     "data": {
      "text/plain": [
       "Is_Neurological\n",
       "False    404038\n",
       "True      32142\n",
       "Name: count, dtype: int64"
      ]
     },
     "execution_count": 12,
     "metadata": {},
     "output_type": "execute_result"
    }
   ],
   "source": [
    "# Create Is_Neurological column: True if matched, else False\n",
    "df2['Is_Neurological'] = df2['Neurological_flag'] == 'both'\n",
    "\n",
    "# Drop the helper column if not needed\n",
    "df2 = df2.drop(columns=['Neurological_flag'])\n",
    "df2.Is_Neurological.value_counts()"
   ]
  },
  {
   "cell_type": "code",
   "execution_count": 13,
   "id": "ef8d5392-c8cf-4279-8d24-2f702cf8e010",
   "metadata": {},
   "outputs": [],
   "source": [
    "Infectious=pd.read_csv('Infectious.csv')\n",
    "# Merge with indicator to see which rows matched\n",
    "df3 = df2.merge(Infectious['NCT_Number'], on='NCT_Number', how='left', indicator='Infectious_flag')\n"
   ]
  },
  {
   "cell_type": "code",
   "execution_count": 14,
   "id": "4a1706ad-2acf-4266-a46a-4f3ae0a79330",
   "metadata": {},
   "outputs": [
    {
     "data": {
      "text/plain": [
       "Is_Infectious\n",
       "False    416859\n",
       "True      19321\n",
       "Name: count, dtype: int64"
      ]
     },
     "execution_count": 14,
     "metadata": {},
     "output_type": "execute_result"
    }
   ],
   "source": [
    "# Create Is_Neurological column: True if matched, else False\n",
    "df3['Is_Infectious'] = df3['Infectious_flag'] == 'both'\n",
    "\n",
    "# Drop the helper column if not needed\n",
    "df3 = df3.drop(columns=['Infectious_flag'])\n",
    "df3.Is_Infectious.value_counts()"
   ]
  },
  {
   "cell_type": "code",
   "execution_count": 15,
   "id": "3d9589c6-cfb9-450f-b702-dca77d7f414b",
   "metadata": {},
   "outputs": [
    {
     "data": {
      "text/plain": [
       "Is_Immunological\n",
       "False    395588\n",
       "True      40592\n",
       "Name: count, dtype: int64"
      ]
     },
     "execution_count": 15,
     "metadata": {},
     "output_type": "execute_result"
    }
   ],
   "source": [
    "Immunological =pd.read_csv('Immunological.csv')\n",
    "# Merge with indicator to see which rows matched\n",
    "df4 = df3.merge(Immunological['NCT_Number'], on='NCT_Number', how='left', indicator='Immunological_flag')\n",
    "# Create Is_Immunological column: True if matched, else False\n",
    "df4['Is_Immunological'] = df4['Immunological_flag'] == 'both'\n",
    "\n",
    "# Drop the helper column if not needed\n",
    "df4 = df4.drop(columns=['Immunological_flag'])\n",
    "df4.Is_Immunological.value_counts()\n",
    "\n"
   ]
  },
  {
   "cell_type": "code",
   "execution_count": 16,
   "id": "0f94f9a4-56db-4080-ba71-63d0db01bc6a",
   "metadata": {},
   "outputs": [
    {
     "data": {
      "text/plain": [
       "Is_Hematological\n",
       "False    421274\n",
       "True      14906\n",
       "Name: count, dtype: int64"
      ]
     },
     "execution_count": 16,
     "metadata": {},
     "output_type": "execute_result"
    }
   ],
   "source": [
    "\n",
    "Hematological =pd.read_csv('Hematology.csv')\n",
    "# Merge with indicator to see which rows matched\n",
    "df5 = df4.merge(Hematological['NCT_Number'], on='NCT_Number', how='left', indicator='Hematological_flag')\n",
    "# Create Is_Hematological column: True if matched, else False\n",
    "df5['Is_Hematological'] = df5['Hematological_flag'] == 'both'\n",
    "\n",
    "# Drop the helper column if not needed\n",
    "df5 = df5.drop(columns=['Hematological_flag'])\n",
    "df5.Is_Hematological.value_counts()"
   ]
  },
  {
   "cell_type": "code",
   "execution_count": 17,
   "id": "28336811-963b-4ad5-8fa6-2d87a2a13c0d",
   "metadata": {},
   "outputs": [
    {
     "data": {
      "text/plain": [
       "Is_Vaccine\n",
       "False    428260\n",
       "True       7920\n",
       "Name: count, dtype: int64"
      ]
     },
     "execution_count": 17,
     "metadata": {},
     "output_type": "execute_result"
    }
   ],
   "source": [
    "Vaccines =pd.read_csv('Vaccines.csv')\n",
    "# Merge with indicator to see which rows matched\n",
    "df6 = df5.merge(Vaccines['NCT_Number'], on='NCT_Number', how='left', indicator='Vaccines_flag')\n",
    "# Create Is_Vaccines column: True if matched, else False\n",
    "df6['Is_Vaccine'] = df6['Vaccines_flag'] == 'both'\n",
    "\n",
    "# Drop the helper column if not needed\n",
    "df6 = df6.drop(columns=['Vaccines_flag'])\n",
    "df6.Is_Vaccine.value_counts()"
   ]
  },
  {
   "cell_type": "code",
   "execution_count": 18,
   "id": "0ffba8cf-e4b7-4db8-a8bc-c3feb21413f0",
   "metadata": {},
   "outputs": [
    {
     "data": {
      "text/plain": [
       "Is_Respiratory\n",
       "False    393790\n",
       "True      42390\n",
       "Name: count, dtype: int64"
      ]
     },
     "execution_count": 18,
     "metadata": {},
     "output_type": "execute_result"
    }
   ],
   "source": [
    "Respiratory =pd.read_csv('Respiratory.csv')\n",
    "# Merge with indicator to see which rows matched\n",
    "df7 = df6.merge(Respiratory['NCT_Number'], on='NCT_Number', how='left', indicator='Respiratory_flag')\n",
    "# Create Is_Respiratory column: True if matched, else False\n",
    "df7['Is_Respiratory'] = df7['Respiratory_flag'] == 'both'\n",
    "\n",
    "# Drop the helper column if not needed\n",
    "df7 = df7.drop(columns=['Respiratory_flag'])\n",
    "df7.Is_Respiratory.value_counts()"
   ]
  },
  {
   "cell_type": "code",
   "execution_count": 19,
   "id": "b30dd963-3ad9-4032-b721-a0ff3335938f",
   "metadata": {},
   "outputs": [
    {
     "data": {
      "text/plain": [
       "Is_Metabolic\n",
       "False    405107\n",
       "True      31073\n",
       "Name: count, dtype: int64"
      ]
     },
     "execution_count": 19,
     "metadata": {},
     "output_type": "execute_result"
    }
   ],
   "source": [
    "Metabolic =pd.read_csv('Metabolic.csv')\n",
    "# Merge with indicator to see which rows matched\n",
    "df8 = df7.merge(Metabolic['NCT_Number'], on='NCT_Number', how='left', indicator='Metabolic_flag')\n",
    "# Create Is_Metabolic column: True if matched, else False\n",
    "df8['Is_Metabolic'] = df8['Metabolic_flag'] == 'both'\n",
    "\n",
    "# Drop the helper column if not needed\n",
    "df8 = df8.drop(columns=['Metabolic_flag'])\n",
    "df8.Is_Metabolic.value_counts()"
   ]
  },
  {
   "cell_type": "code",
   "execution_count": 20,
   "id": "fa11472a-ab1e-4d47-a489-3621d0226760",
   "metadata": {},
   "outputs": [
    {
     "data": {
      "text/plain": [
       "Is_Cardiovascular\n",
       "False    384451\n",
       "True      51729\n",
       "Name: count, dtype: int64"
      ]
     },
     "execution_count": 20,
     "metadata": {},
     "output_type": "execute_result"
    }
   ],
   "source": [
    "Cardiovascular = pd.read_csv('Cardiovascular.csv')\n",
    "# Merge with indicator to see which rows matched\n",
    "df9 = df8.merge(Cardiovascular['NCT_Number'], on='NCT_Number', how='left', indicator='Cardiovascular_flag')\n",
    "# Create Is_Cardiovascular column: True if matched, else False\n",
    "df9['Is_Cardiovascular'] = df9['Cardiovascular_flag'] == 'both'\n",
    "\n",
    "# Drop the helper column if not needed\n",
    "df9 = df9.drop(columns=['Cardiovascular_flag'])\n",
    "df9.Is_Cardiovascular.value_counts()"
   ]
  },
  {
   "cell_type": "code",
   "execution_count": 21,
   "id": "3ae8879f-8282-4221-8f3b-92b34a926e68",
   "metadata": {},
   "outputs": [
    {
     "data": {
      "text/plain": [
       "Is_Mental_Health\n",
       "False    431789\n",
       "True       4391\n",
       "Name: count, dtype: int64"
      ]
     },
     "execution_count": 21,
     "metadata": {},
     "output_type": "execute_result"
    }
   ],
   "source": [
    "\n",
    "Mental_Health = pd.read_csv('Mental Health.csv')\n",
    "# Merge with indicator to see which rows matched\n",
    "df10 = df9.merge(Mental_Health['NCT_Number'], on='NCT_Number', how='left', indicator='Mental_Health_flag')\n",
    "# Create Is_Mental_Health column: True if matched, else False\n",
    "df10['Is_Mental_Health'] = df10['Mental_Health_flag'] == 'both'\n",
    "\n",
    "# Drop the helper column if not needed\n",
    "df10 = df10.drop(columns=['Mental_Health_flag'])\n",
    "df10.Is_Mental_Health.value_counts()"
   ]
  },
  {
   "cell_type": "code",
   "execution_count": 22,
   "id": "473fecdf-277f-4018-909c-4f02d9c48a4e",
   "metadata": {},
   "outputs": [
    {
     "data": {
      "text/plain": [
       "Is_Congenital\n",
       "False    428471\n",
       "True       7709\n",
       "Name: count, dtype: int64"
      ]
     },
     "execution_count": 22,
     "metadata": {},
     "output_type": "execute_result"
    }
   ],
   "source": [
    "Congenital = pd.read_csv('Congenital.csv')\n",
    "# Merge with indicator to see which rows matched\n",
    "df11 = df10.merge(Congenital['NCT_Number'], on='NCT_Number', how='left', indicator='Congenital_flag')\n",
    "# Create Is_Congenital column: True if matched, else False\n",
    "df11['Is_Congenital'] = df11['Congenital_flag'] == 'both'\n",
    "\n",
    "# Drop the helper column if not needed\n",
    "df11 = df11.drop(columns=['Congenital_flag'])\n",
    "df11.Is_Congenital.value_counts()"
   ]
  },
  {
   "cell_type": "code",
   "execution_count": 23,
   "id": "ff778329-0f6f-4b5f-87af-947f93da46f8",
   "metadata": {},
   "outputs": [
    {
     "data": {
      "text/plain": [
       "Is_Injuries\n",
       "False    412498\n",
       "True      23682\n",
       "Name: count, dtype: int64"
      ]
     },
     "execution_count": 23,
     "metadata": {},
     "output_type": "execute_result"
    }
   ],
   "source": [
    "Injuries = pd.read_csv('Injuries.csv')\n",
    "# Merge with indicator to see which rows matched\n",
    "df12 = df11.merge(Injuries['NCT_Number'], on='NCT_Number', how='left', indicator='Injuries_flag')\n",
    "# Create Is_Injuries column: True if matched, else False\n",
    "df12['Is_Injuries'] = df12['Injuries_flag'] == 'both'\n",
    "\n",
    "# Drop the helper column if not needed\n",
    "df12 = df12.drop(columns=['Injuries_flag'])\n",
    "df12.Is_Injuries.value_counts()"
   ]
  },
  {
   "cell_type": "code",
   "execution_count": 24,
   "id": "2c4ae6a5-7df1-4a99-aeef-11cf33a474dd",
   "metadata": {},
   "outputs": [
    {
     "data": {
      "text/plain": [
       "Is_Musculoskeletal\n",
       "False    412736\n",
       "True      23444\n",
       "Name: count, dtype: int64"
      ]
     },
     "execution_count": 24,
     "metadata": {},
     "output_type": "execute_result"
    }
   ],
   "source": [
    "Musculoskeletal = pd.read_csv('Musculoskeletal.csv')\n",
    "# Merge with indicator to see which rows matched\n",
    "df13 = df12.merge(Musculoskeletal['NCT_Number'], on='NCT_Number', how='left', indicator='Musculoskeletal_flag')\n",
    "# Create Is_Musculoskeletal column: True if matched, else False\n",
    "df13['Is_Musculoskeletal'] = df13['Musculoskeletal_flag'] == 'both'\n",
    "\n",
    "# Drop the helper column if not needed\n",
    "df13 = df13.drop(columns=['Musculoskeletal_flag'])\n",
    "df13.Is_Musculoskeletal.value_counts()"
   ]
  },
  {
   "cell_type": "code",
   "execution_count": 25,
   "id": "63783b76-8231-43b7-916e-da87dbc46934",
   "metadata": {},
   "outputs": [
    {
     "data": {
      "text/plain": [
       "Is_Ocular\n",
       "False    423273\n",
       "True      12907\n",
       "Name: count, dtype: int64"
      ]
     },
     "execution_count": 25,
     "metadata": {},
     "output_type": "execute_result"
    }
   ],
   "source": [
    "Ocular= pd.read_csv('Ocular.csv')\n",
    "# Merge with indicator to see which rows matched\n",
    "df14 = df13.merge(Ocular['NCT_Number'], on='NCT_Number', how='left', indicator='Ocular_flag')\n",
    "# Create Is_Ocular column: True if matched, else False\n",
    "df14['Is_Ocular'] = df14['Ocular_flag'] == 'both'\n",
    "\n",
    "# Drop the helper column if not needed\n",
    "df14 = df14.drop(columns=['Ocular_flag'])\n",
    "df14.Is_Ocular.value_counts()"
   ]
  },
  {
   "cell_type": "code",
   "execution_count": 26,
   "id": "232353d9-7ab7-47a5-a973-b3cba5b7a193",
   "metadata": {},
   "outputs": [
    {
     "data": {
      "text/plain": [
       "Is_Dermatological\n",
       "False    412361\n",
       "True      23819\n",
       "Name: count, dtype: int64"
      ]
     },
     "execution_count": 26,
     "metadata": {},
     "output_type": "execute_result"
    }
   ],
   "source": [
    "Dermatological = pd.read_csv('Dermatological.csv')\n",
    "# Merge with indicator to see which rows matched\n",
    "df15 = df14.merge(Dermatological['NCT_Number'], on='NCT_Number', how='left', indicator='Dermatological_flag')\n",
    "# Create Is_Dermatological column: True if matched, else False\n",
    "df15['Is_Dermatological'] = df15['Dermatological_flag'] == 'both'\n",
    "\n",
    "# Drop the helper column if not needed\n",
    "df15 = df15.drop(columns=['Dermatological_flag'])\n",
    "df15.Is_Dermatological.value_counts()\n"
   ]
  },
  {
   "cell_type": "code",
   "execution_count": 27,
   "id": "820d3159-a891-45f2-bdd3-c90dfda04043",
   "metadata": {},
   "outputs": [
    {
     "data": {
      "text/plain": [
       "Is_Urological\n",
       "False    421967\n",
       "True      14213\n",
       "Name: count, dtype: int64"
      ]
     },
     "execution_count": 27,
     "metadata": {},
     "output_type": "execute_result"
    }
   ],
   "source": [
    "Urological = pd.read_csv('Urological.csv')\n",
    "# Merge with indicator to see which rows matched\n",
    "df16 = df15.merge(Urological['NCT_Number'], on='NCT_Number', how='left', indicator='Urological_flag')\n",
    "# Create Is_Urological column: True if matched, else False\n",
    "df16['Is_Urological'] = df16['Urological_flag'] == 'both'\n",
    "\n",
    "# Drop the helper column if not needed\n",
    "df16 = df16.drop(columns=['Urological_flag'])\n",
    "df16.Is_Urological.value_counts()\n"
   ]
  },
  {
   "cell_type": "code",
   "execution_count": 28,
   "id": "99191b36-77a9-474b-bd58-c1871e3629e4",
   "metadata": {},
   "outputs": [
    {
     "data": {
      "text/plain": [
       "Is_Endocrinological\n",
       "False    412323\n",
       "True      23857\n",
       "Name: count, dtype: int64"
      ]
     },
     "execution_count": 28,
     "metadata": {},
     "output_type": "execute_result"
    }
   ],
   "source": [
    "Endocrinological= pd.read_csv('Endocrinological.csv')\n",
    "# Merge with indicator to see which rows matched\n",
    "df17 = df16.merge(Endocrinological['NCT_Number'], on='NCT_Number', how='left', indicator='Endocrinological_flag')\n",
    "# Create Is_Endocrinological column: True if matched, else False\n",
    "df17['Is_Endocrinological'] = df17['Endocrinological_flag'] == 'both'\n",
    "\n",
    "# Drop the helper column if not needed\n",
    "df17 = df17.drop(columns=['Endocrinological_flag'])\n",
    "df17.Is_Endocrinological.value_counts()"
   ]
  },
  {
   "cell_type": "code",
   "execution_count": 29,
   "id": "c194abd6-d406-4c4e-9073-c1de5c0b2ffd",
   "metadata": {},
   "outputs": [
    {
     "data": {
      "text/plain": [
       "Is_Healthy\n",
       "False    420142\n",
       "True      16038\n",
       "Name: count, dtype: int64"
      ]
     },
     "execution_count": 29,
     "metadata": {},
     "output_type": "execute_result"
    }
   ],
   "source": [
    "Healthy= pd.read_csv('Healthy.csv')\n",
    "# Merge with indicator to see which rows matched\n",
    "df18 = df17.merge(Healthy['NCT_Number'], on='NCT_Number', how='left', indicator='Healthy_flag')\n",
    "# Create Is_Healthy column: True if matched, else False\n",
    "df18['Is_Healthy'] = df18['Healthy_flag'] == 'both'\n",
    "\n",
    "# Drop the helper column if not needed\n",
    "df18 = df18.drop(columns=['Healthy_flag'])\n",
    "df18.Is_Healthy.value_counts()"
   ]
  },
  {
   "cell_type": "code",
   "execution_count": 30,
   "id": "de72e122-985e-405a-aeb0-b7b628b3e149",
   "metadata": {},
   "outputs": [
    {
     "data": {
      "text/plain": [
       "Is_Pain\n",
       "False    407202\n",
       "True      28978\n",
       "Name: count, dtype: int64"
      ]
     },
     "execution_count": 30,
     "metadata": {},
     "output_type": "execute_result"
    }
   ],
   "source": [
    "Pain = pd.read_csv('Pain.csv')\n",
    "# Merge with indicator to see which rows matched\n",
    "df19 = df18.merge(Pain['NCT_Number'], on='NCT_Number', how='left', indicator='Pain_flag')\n",
    "# Create Is_Pain column: True if matched, else False\n",
    "df19['Is_Pain'] = df19['Pain_flag'] == 'both'\n",
    "\n",
    "# Drop the helper column if not needed\n",
    "df19 = df19.drop(columns=['Pain_flag'])\n",
    "df19.Is_Pain.value_counts()"
   ]
  },
  {
   "cell_type": "code",
   "execution_count": 31,
   "id": "b012d180-4c2e-4153-80a4-ad6d2c23b3b2",
   "metadata": {},
   "outputs": [
    {
     "data": {
      "text/plain": [
       "Index(['NCT_Number', 'Study_Title', 'Study_Status', 'Enrollment',\n",
       "       'Start_date_formated', 'Completion_date_formated', 'Enrollment_log',\n",
       "       'Start_Year', 'Completion_Year', 'Study_Duration_Capped',\n",
       "       'MOA_mesh_term', 'primary_mesh_term', 'safety', 'efficacy',\n",
       "       'retraction', 'study_success', 'Published_in_Pubmed',\n",
       "       'Safety_Proportion', 'Efficacy_Proportion', 'Enrollment_std',\n",
       "       'Enrollment_log_std', 'Start_Year_std', 'Completion_Year_std',\n",
       "       'Study_Duration_Capped_std', 'Safety_Proportion_std',\n",
       "       'Efficacy_Proportion_std', 'region_Simplified_East Asia',\n",
       "       'region_Simplified_Europe', 'region_Simplified_North America',\n",
       "       'region_Simplified_OTHER', 'Study_Status_Simplified_Completed',\n",
       "       'Study_Status_Simplified_Ended_Early',\n",
       "       'Study_Status_Simplified_Ongoing', 'Study_Status_Simplified_Unknown',\n",
       "       'Sex_ALL', 'Sex_FEMALE', 'Sex_MALE', 'Age_Simplified_ADULT',\n",
       "       'Age_Simplified_ALL', 'Age_Simplified_CHILD',\n",
       "       'Age_Simplified_OLDER_ADULT', 'Phases_Simplified_PHASE1',\n",
       "       'Phases_Simplified_PHASE2', 'Phases_Simplified_PHASE3',\n",
       "       'Phases_Simplified_PHASE4', 'Funder_Simplified_Government',\n",
       "       'Funder_Simplified_Industry', 'Funder_Simplified_Non-Governmental',\n",
       "       'Funder_Simplified_Unknown', 'Study_Size_Huge', 'Study_Size_Large',\n",
       "       'Study_Size_Medium', 'Study_Size_Population_based', 'Study_Size_Small',\n",
       "       'Study_Type_INTERVENTIONAL'],\n",
       "      dtype='object')"
      ]
     },
     "execution_count": 31,
     "metadata": {},
     "output_type": "execute_result"
    }
   ],
   "source": [
    "df = pd.read_csv('ctgAll_EDA1205_atcc_std.csv')\n",
    "df.columns"
   ]
  },
  {
   "cell_type": "code",
   "execution_count": 32,
   "id": "5c120019-398c-4c43-8c72-223b03b2ede7",
   "metadata": {},
   "outputs": [],
   "source": [
    "# Dropping original, unstandardized columns and other success labels ('study_success', 'Published_in_Pubmed') to avoid leakage  \n",
    "columns_to_drop=['Study_Title', 'Study_Status', 'Enrollment',\n",
    "       'Start_date_formated','Completion_date_formated', 'Enrollment_log',\n",
    "       'Start_Year', 'Study_Duration_Capped',\n",
    "       'MOA_mesh_term', 'primary_mesh_term', 'safety', 'efficacy',\n",
    "       'Published_in_Pubmed','Safety_Proportion', 'Efficacy_Proportion']\n",
    "df= df.drop(columns=columns_to_drop)"
   ]
  },
  {
   "cell_type": "code",
   "execution_count": 33,
   "id": "ff119785-1fb4-463d-9d5b-7760dd137b44",
   "metadata": {},
   "outputs": [],
   "source": [
    "df.to_csv('ctgAll_EDA1205_atcc_std_cleaned.csv', index=False)"
   ]
  },
  {
   "cell_type": "code",
   "execution_count": 34,
   "id": "8add843c-9e1b-482a-aff1-ac7080379173",
   "metadata": {},
   "outputs": [],
   "source": [
    "#Merge back to the main CTG df\n",
    "df = pd.read_csv('ctgAll_EDA1205_atcc_std_cleaned.csv')\n",
    "df.columns\n",
    "merge = df.merge(\n",
    "    df19,\n",
    "    on='NCT_Number',\n",
    "    how='left',\n",
    "    )"
   ]
  },
  {
   "cell_type": "markdown",
   "id": "f75433ef-a439-4fb0-b672-c0d3a5ca17fb",
   "metadata": {},
   "source": [
    "### New feature: subject retention rate\n",
    "Based on data from the AACT 'droupout' table. dropput_grouped dataset contains the count of dropout incidences grouped by nct_id."
   ]
  },
  {
   "cell_type": "code",
   "execution_count": 35,
   "id": "7f940ea6-8b0d-43d8-8501-00f8af8bd5db",
   "metadata": {},
   "outputs": [
    {
     "data": {
      "text/plain": [
       "Index(['NCT_Number', 'Dropouts'], dtype='object')"
      ]
     },
     "execution_count": 35,
     "metadata": {},
     "output_type": "execute_result"
    }
   ],
   "source": [
    "dropouts = pd.read_csv('dropput_grouped.csv')\n",
    "dropouts.rename(columns={\n",
    "    'nct_id':'NCT_Number',\n",
    "     'number': 'Dropouts'\n",
    "}, inplace=True)\n",
    "dropouts.columns"
   ]
  },
  {
   "cell_type": "code",
   "execution_count": 36,
   "id": "fb2eb2f0-c4d4-4901-8cf1-83b4b482bd2f",
   "metadata": {},
   "outputs": [
    {
     "data": {
      "text/plain": [
       "133255"
      ]
     },
     "execution_count": 36,
     "metadata": {},
     "output_type": "execute_result"
    }
   ],
   "source": [
    "# Merging dropouts df with the CTG df\n",
    "df20 = merge.merge(dropouts, on='NCT_Number', how='left')\n",
    "df20['Dropouts'].isnull().sum()"
   ]
  },
  {
   "cell_type": "code",
   "execution_count": 37,
   "id": "4731c99e-b736-4f18-85a8-b1b67cac6ee2",
   "metadata": {},
   "outputs": [
    {
     "data": {
      "text/plain": [
       "0"
      ]
     },
     "execution_count": 37,
     "metadata": {},
     "output_type": "execute_result"
    }
   ],
   "source": [
    "# Filling NaN values (studies in which no patients were dropped out) with 0 \n",
    "df20['Dropouts'] = df20['Dropouts'].fillna(0)\n",
    "# Calculating the retention rate, defined as (1-proportion of patients who dropped out from the overall patient enrollment)\n",
    "df20['Retention_rate'] = 1 - (df20['Dropouts'] / df20['Enrollment'])\n",
    "df20['Retention_rate'].isnull().sum()"
   ]
  },
  {
   "cell_type": "markdown",
   "id": "baa8b4a3-76a4-499b-8de9-a80da787ddf0",
   "metadata": {},
   "source": [
    "### New feature: number of collaborators \n",
    "Based on data from the AACT 'Collaborators' table."
   ]
  },
  {
   "cell_type": "code",
   "execution_count": 38,
   "id": "81f5fa9a-b31d-42eb-98d3-61c7fe2e52fd",
   "metadata": {},
   "outputs": [],
   "source": [
    "collaborators = pd.read_csv(\"Collaborators.csv\", encoding='latin1')\n",
    "# Count the number of collaborators separated by '|'\n",
    "collaborators['num_collaborators'] = collaborators['Collaborators'].fillna('').apply(\n",
    "    lambda x: len(x.split('|')) if x else 0\n",
    ")\n",
    "#  Merge with main df\n",
    "df21 = df20.merge(collaborators, on='NCT_Number', how='left')"
   ]
  },
  {
   "cell_type": "markdown",
   "id": "5c81a1ef-a475-4598-8384-7fbac989f53f",
   "metadata": {},
   "source": [
    "### New features: sponsor experience with the specific condition and with the management of Phase 3 studies\n",
    "New features created from 'Sponsor', 'Condition' and 'Phases_Simplified' features of the CTG dataset"
   ]
  },
  {
   "cell_type": "code",
   "execution_count": 39,
   "id": "7ff5a2af-1ee6-4516-8226-7b91e9a4f40c",
   "metadata": {},
   "outputs": [],
   "source": [
    "df = pd.read_csv('ctgAll_EDA1205.csv', usecols=['Conditions','Sponsor','NCT_Number','Start_Year','Phases_Simplified'])\n",
    "\n",
    "# Ensure consistent formatting\n",
    "df['Sponsor_clean'] = df['Sponsor'].str.lower().str.strip()\n",
    "df['Conditions_clean'] = df['Conditions'].str.lower().str.strip()\n",
    "\n",
    "# Sort by Start_Year\n",
    "df = df.sort_values(by='Start_Year').copy()\n",
    "\n",
    "# Create a cumulative count per Sponsor–Condition pair\n",
    "df['SponsorCondition_experience'] = (\n",
    "    df.groupby(['Sponsor_clean', 'Conditions_clean']).cumcount() + 1\n",
    ")\n"
   ]
  },
  {
   "cell_type": "code",
   "execution_count": 40,
   "id": "427d1da4-92fd-4f7c-a2ad-32259d0b6c5e",
   "metadata": {},
   "outputs": [],
   "source": [
    "# Sort data by Start_Year\n",
    "df = df.sort_values(by='Start_Year').copy()\n",
    "\n",
    "# Create a mask for Phase 3 trials\n",
    "phase3_mask = df['Phases_Simplified'] == 'PHASE3'\n",
    "\n",
    "# Initialize column with NaNs or zeros\n",
    "df['Sponsor_Phase3_Experience'] = 0\n",
    "\n",
    "# Compute cumulative Phase 3 experience for each sponsor\n",
    "df.loc[phase3_mask, 'Sponsor_Phase3_Experience'] = (\n",
    "    df[phase3_mask].groupby('Sponsor_clean').cumcount() + 1\n",
    ")\n"
   ]
  },
  {
   "cell_type": "code",
   "execution_count": 41,
   "id": "f60d43e8-c333-47d6-aecb-8f6923182d96",
   "metadata": {},
   "outputs": [],
   "source": [
    "# merge with main df\n",
    "df22 = df21.merge(\n",
    "    df[['NCT_Number', 'SponsorCondition_experience', 'Sponsor_Phase3_Experience']],\n",
    "    on='NCT_Number',\n",
    "    how='left'\n",
    ")"
   ]
  },
  {
   "cell_type": "markdown",
   "id": "3987c1f7-1627-4c7f-8b43-4396453e0d6a",
   "metadata": {},
   "source": [
    "## Standartization of new numerical features"
   ]
  },
  {
   "cell_type": "code",
   "execution_count": 42,
   "id": "a2e6c022-6d0c-402e-baa0-c2dafae0adca",
   "metadata": {},
   "outputs": [],
   "source": [
    "from sklearn.preprocessing import StandardScaler\n",
    "\n",
    "# Fill NaNs\n",
    "df22['No_of_Groups'] = df22['No_of_Groups'].fillna(1)\n",
    "df22['Group_Size'] = df22['Group_Size'].fillna(df22['Enrollment'])\n",
    "\n",
    "# Select relevant columns\n",
    "columns_to_scale = ['num_collaborators', 'SponsorCondition_experience',\n",
    "       'Sponsor_Phase3_Experience','Retention_rate','No_of_Groups','Group_Size']\n",
    "\n",
    "# Create scalers\n",
    "scaler_standard = StandardScaler()\n",
    "\n",
    "# Fit and transform the data\n",
    "df_standardized = pd.DataFrame(scaler_standard.fit_transform(df22[columns_to_scale]),\n",
    "                               columns=[col + '_std' for col in columns_to_scale])\n",
    "\n",
    "\n",
    "# Join back to main DataFrame\n",
    "df = pd.concat([df22, df_standardized], axis=1)"
   ]
  },
  {
   "cell_type": "code",
   "execution_count": 43,
   "id": "38d18551-c745-4808-abf4-ba1bb80cef1c",
   "metadata": {},
   "outputs": [],
   "source": [
    "# Dropping original, unstandardized columns   \n",
    "columns_to_drop=['num_collaborators', 'SponsorCondition_experience',\n",
    "       'Sponsor_Phase3_Experience','Retention_rate','No_of_Groups','Group_Size']\n",
    "df= df.drop(columns=columns_to_drop)"
   ]
  },
  {
   "cell_type": "code",
   "execution_count": 46,
   "id": "ede6456c-b27e-4c66-a9d2-1f1747f3f78b",
   "metadata": {},
   "outputs": [],
   "source": [
    "df.to_csv('CTG_Extra_features.csv', index=False)"
   ]
  }
 ],
 "metadata": {
  "kernelspec": {
   "display_name": "Python 3 (ipykernel)",
   "language": "python",
   "name": "python3"
  },
  "language_info": {
   "codemirror_mode": {
    "name": "ipython",
    "version": 3
   },
   "file_extension": ".py",
   "mimetype": "text/x-python",
   "name": "python",
   "nbconvert_exporter": "python",
   "pygments_lexer": "ipython3",
   "version": "3.12.3"
  }
 },
 "nbformat": 4,
 "nbformat_minor": 5
}
